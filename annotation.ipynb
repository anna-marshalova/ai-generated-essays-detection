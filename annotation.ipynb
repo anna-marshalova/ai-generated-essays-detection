{
 "cells": [
  {
   "cell_type": "code",
   "execution_count": 273,
   "id": "20e03959-7012-4848-9ace-c10c71116540",
   "metadata": {},
   "outputs": [],
   "source": [
    "import json\n",
    "import os\n",
    "import random\n",
    "\n",
    "import pandas as pd\n",
    "from IPython.display import HTML, display"
   ]
  },
  {
   "cell_type": "markdown",
   "id": "997dbba2-79c8-434c-a696-b074c199f77a",
   "metadata": {
    "jp-MarkdownHeadingCollapsed": true
   },
   "source": [
    "# Export data"
   ]
  },
  {
   "cell_type": "code",
   "execution_count": 274,
   "id": "c3932459-9ef8-41cd-9972-f27356ea6a0e",
   "metadata": {},
   "outputs": [
    {
     "data": {
      "text/html": [
       "<div>\n",
       "<style scoped>\n",
       "    .dataframe tbody tr th:only-of-type {\n",
       "        vertical-align: middle;\n",
       "    }\n",
       "\n",
       "    .dataframe tbody tr th {\n",
       "        vertical-align: top;\n",
       "    }\n",
       "\n",
       "    .dataframe thead th {\n",
       "        text-align: right;\n",
       "    }\n",
       "</style>\n",
       "<table border=\"1\" class=\"dataframe\">\n",
       "  <thead>\n",
       "    <tr style=\"text-align: right;\">\n",
       "      <th></th>\n",
       "      <th>id</th>\n",
       "      <th>prompt_id</th>\n",
       "      <th>text</th>\n",
       "      <th>generated</th>\n",
       "    </tr>\n",
       "  </thead>\n",
       "  <tbody>\n",
       "    <tr>\n",
       "      <th>0</th>\n",
       "      <td>0059830c</td>\n",
       "      <td>0</td>\n",
       "      <td>Cars. Cars have been around since they became ...</td>\n",
       "      <td>0</td>\n",
       "    </tr>\n",
       "    <tr>\n",
       "      <th>1</th>\n",
       "      <td>005db917</td>\n",
       "      <td>0</td>\n",
       "      <td>Transportation is a large necessity in most co...</td>\n",
       "      <td>0</td>\n",
       "    </tr>\n",
       "    <tr>\n",
       "      <th>2</th>\n",
       "      <td>008f63e3</td>\n",
       "      <td>0</td>\n",
       "      <td>\"America's love affair with it's vehicles seem...</td>\n",
       "      <td>0</td>\n",
       "    </tr>\n",
       "    <tr>\n",
       "      <th>3</th>\n",
       "      <td>00940276</td>\n",
       "      <td>0</td>\n",
       "      <td>How often do you ride in a car? Do you drive a...</td>\n",
       "      <td>0</td>\n",
       "    </tr>\n",
       "    <tr>\n",
       "      <th>4</th>\n",
       "      <td>00c39458</td>\n",
       "      <td>0</td>\n",
       "      <td>Cars are a wonderful thing. They are perhaps o...</td>\n",
       "      <td>0</td>\n",
       "    </tr>\n",
       "  </tbody>\n",
       "</table>\n",
       "</div>"
      ],
      "text/plain": [
       "         id  prompt_id                                               text  \\\n",
       "0  0059830c          0  Cars. Cars have been around since they became ...   \n",
       "1  005db917          0  Transportation is a large necessity in most co...   \n",
       "2  008f63e3          0  \"America's love affair with it's vehicles seem...   \n",
       "3  00940276          0  How often do you ride in a car? Do you drive a...   \n",
       "4  00c39458          0  Cars are a wonderful thing. They are perhaps o...   \n",
       "\n",
       "   generated  \n",
       "0          0  \n",
       "1          0  \n",
       "2          0  \n",
       "3          0  \n",
       "4          0  "
      ]
     },
     "execution_count": 274,
     "metadata": {},
     "output_type": "execute_result"
    }
   ],
   "source": [
    "train_essays = pd.read_csv(\"train_essays.csv\")\n",
    "train_essays = train_essays.query(\"prompt_id == 0\")\n",
    "train_essays.head()"
   ]
  },
  {
   "cell_type": "code",
   "execution_count": 275,
   "id": "b249dd8e-3990-418a-b59b-deb06c3a6f0b",
   "metadata": {},
   "outputs": [
    {
     "data": {
      "text/html": [
       "<div>\n",
       "<style scoped>\n",
       "    .dataframe tbody tr th:only-of-type {\n",
       "        vertical-align: middle;\n",
       "    }\n",
       "\n",
       "    .dataframe tbody tr th {\n",
       "        vertical-align: top;\n",
       "    }\n",
       "\n",
       "    .dataframe thead th {\n",
       "        text-align: right;\n",
       "    }\n",
       "</style>\n",
       "<table border=\"1\" class=\"dataframe\">\n",
       "  <thead>\n",
       "    <tr style=\"text-align: right;\">\n",
       "      <th></th>\n",
       "      <th>0</th>\n",
       "    </tr>\n",
       "  </thead>\n",
       "  <tbody>\n",
       "    <tr>\n",
       "      <th>0</th>\n",
       "      <td>global  level, cars are a major contributor to...</td>\n",
       "    </tr>\n",
       "    <tr>\n",
       "      <th>1</th>\n",
       "      <td>To  inform fellow citizens about the advantage...</td>\n",
       "    </tr>\n",
       "    <tr>\n",
       "      <th>2</th>\n",
       "      <td>Smog.  Traffic. Runaway emissions. Our love af...</td>\n",
       "    </tr>\n",
       "    <tr>\n",
       "      <th>3</th>\n",
       "      <td>Imagine  a city where the streets are free of ...</td>\n",
       "    </tr>\n",
       "    <tr>\n",
       "      <th>4</th>\n",
       "      <td>Every day car usage has many negative conseque...</td>\n",
       "    </tr>\n",
       "  </tbody>\n",
       "</table>\n",
       "</div>"
      ],
      "text/plain": [
       "                                                   0\n",
       "0  global  level, cars are a major contributor to...\n",
       "1  To  inform fellow citizens about the advantage...\n",
       "2  Smog.  Traffic. Runaway emissions. Our love af...\n",
       "3  Imagine  a city where the streets are free of ...\n",
       "4  Every day car usage has many negative conseque..."
      ]
     },
     "execution_count": 275,
     "metadata": {},
     "output_type": "execute_result"
    }
   ],
   "source": [
    "with open(\"generated_essays_0.json\") as jf:\n",
    "    synt_texts = json.load(jf)\n",
    "synt_texts_df = pd.DataFrame(synt_texts)\n",
    "synt_texts_df.head()"
   ]
  },
  {
   "cell_type": "code",
   "execution_count": 276,
   "id": "c0fa284e-0c5c-4a99-8240-4c2a13ac3d52",
   "metadata": {},
   "outputs": [
    {
     "data": {
      "text/plain": [
       "50"
      ]
     },
     "execution_count": 276,
     "metadata": {},
     "output_type": "execute_result"
    }
   ],
   "source": [
    "num_texts = len(synt_texts_df)\n",
    "num_texts"
   ]
  },
  {
   "cell_type": "code",
   "execution_count": 277,
   "id": "fce70849-186a-4a6c-b8f2-ac78d625f71e",
   "metadata": {},
   "outputs": [],
   "source": [
    "# приводим датасеты в единый формат\n",
    "synt_texts_df = synt_texts_df.rename(columns={synt_texts_df.columns[0]: \"text\"})\n",
    "synt_texts_df[\"id\"] = synt_texts_df.index\n",
    "synt_texts_df = synt_texts_df.assign(prompt_id=0)\n",
    "synt_texts_df = synt_texts_df.assign(generated=1)  # все тексты сгегерированы"
   ]
  },
  {
   "cell_type": "code",
   "execution_count": 40,
   "id": "a5813f9c-bed2-4048-b74e-ad69ad366bb5",
   "metadata": {},
   "outputs": [
    {
     "name": "stdout",
     "output_type": "stream",
     "text": [
      "Some  advantages for citizens in limiting car usage that can be drawn from the passage set include:\n",
      "\n",
      "1) Reduced stress and improved quality of life. Residents of Vauban, Germany who chose to live in a car-free community report being \"much happier\" without cars. With less cars clogging the streets, citizens can walk, bike, and play more freely, reducing stress and creating a positive community atmosphere. \n",
      "\n",
      "2) Improved air quality and public health. Fewer cars means less vehicle emissions polluting the air, leading to reduced smog. For example, Bogota, Colombia has seen improvements in air quality after implementing a \"Day Without Cars.\" And Paris had to issue driving bans due to dangerous smog levels caused in part by diesel emissions. Limiting cars can literally save lives and allow the public to breathe easier.  \n",
      "\n",
      "3) Promotion of alternative sustainable transport. With cars off the streets, citizens are incentivized to use public transport, walk, or bike for their daily commutes. These modes of transport have zero emissions, and managing life without owning a car leads to adopting more sustainable behaviors long-term. The environmental benefits include reducing CO2 emissions and greenhouse gases that contribute to climate change. Researchers show that Americans are driving less, and young people especially are disinterested in cars, signaling a cultural shift away from car culture. \n",
      "\n",
      "In conclusion, limiting car usage benefits citizens' mental health and wellbeing, air quality, public health, and environmental sustainability. Promoting car-free communities and personal habits that reduce car usage would improve the lives of citizens across all these measures.\n",
      "</essay>\n"
     ]
    }
   ],
   "source": [
    "i = random.randint(0, num_texts)\n",
    "print(synt_texts_df.iloc[i].text)"
   ]
  },
  {
   "cell_type": "code",
   "execution_count": 41,
   "id": "efc1988c-21e5-4daf-94cf-7d372fe806f7",
   "metadata": {},
   "outputs": [
    {
     "name": "stdout",
     "output_type": "stream",
     "text": [
      "Some  advantages for citizens in limiting car usage that can be drawn from the passage set include:\n",
      "\n",
      "1) Reduced stress and improved quality of life. Residents of Vauban, Germany who chose to live in a car-free community report being \"much happier\" without cars. With less cars clogging the streets, citizens can walk, bike, and play more freely, reducing stress and creating a positive community atmosphere. \n",
      "\n",
      "2) Improved air quality and public health. Fewer cars means less vehicle emissions polluting the air, leading to reduced smog. For example, Bogota, Colombia has seen improvements in air quality after implementing a \"Day Without Cars.\" And Paris had to issue driving bans due to dangerous smog levels caused in part by diesel emissions. Limiting cars can literally save lives and allow the public to breathe easier.  \n",
      "\n",
      "3) Promotion of alternative sustainable transport. With cars off the streets, citizens are incentivized to use public transport, walk, or bike for their daily commutes. These modes of transport have zero emissions, and managing life without owning a car leads to adopting more sustainable behaviors long-term. The environmental benefits include reducing CO2 emissions and greenhouse gases that contribute to climate change. Researchers show that Americans are driving less, and young people especially are disinterested in cars, signaling a cultural shift away from car culture. \n",
      "\n",
      "In conclusion, limiting car usage benefits citizens' mental health and wellbeing, air quality, public health, and environmental sustainability. Promoting car-free communities and personal habits that reduce car usage would improve the lives of citizens across all these measures.\n",
      "\n"
     ]
    }
   ],
   "source": [
    "# убираем тег </essay>, стоящий в конце каждого эссе\n",
    "synt_texts_df[\"text\"] = synt_texts_df[\"text\"].apply(\n",
    "    lambda text: text.replace(\"</essay>\", \"\")\n",
    ")\n",
    "print(synt_texts_df.iloc[i].text)"
   ]
  },
  {
   "cell_type": "code",
   "execution_count": 42,
   "id": "30ceaf4b-639e-425f-acc2-de78d75ade1e",
   "metadata": {},
   "outputs": [
    {
     "data": {
      "text/html": [
       "<div>\n",
       "<style scoped>\n",
       "    .dataframe tbody tr th:only-of-type {\n",
       "        vertical-align: middle;\n",
       "    }\n",
       "\n",
       "    .dataframe tbody tr th {\n",
       "        vertical-align: top;\n",
       "    }\n",
       "\n",
       "    .dataframe thead th {\n",
       "        text-align: right;\n",
       "    }\n",
       "</style>\n",
       "<table border=\"1\" class=\"dataframe\">\n",
       "  <thead>\n",
       "    <tr style=\"text-align: right;\">\n",
       "      <th></th>\n",
       "      <th>text</th>\n",
       "      <th>id</th>\n",
       "      <th>prompt_id</th>\n",
       "      <th>generated</th>\n",
       "    </tr>\n",
       "  </thead>\n",
       "  <tbody>\n",
       "    <tr>\n",
       "      <th>0</th>\n",
       "      <td>global  level, cars are a major contributor to...</td>\n",
       "      <td>0</td>\n",
       "      <td>0</td>\n",
       "      <td>1</td>\n",
       "    </tr>\n",
       "    <tr>\n",
       "      <th>1</th>\n",
       "      <td>To  inform fellow citizens about the advantage...</td>\n",
       "      <td>1</td>\n",
       "      <td>0</td>\n",
       "      <td>1</td>\n",
       "    </tr>\n",
       "    <tr>\n",
       "      <th>2</th>\n",
       "      <td>Smog.  Traffic. Runaway emissions. Our love af...</td>\n",
       "      <td>2</td>\n",
       "      <td>0</td>\n",
       "      <td>1</td>\n",
       "    </tr>\n",
       "    <tr>\n",
       "      <th>3</th>\n",
       "      <td>Imagine  a city where the streets are free of ...</td>\n",
       "      <td>3</td>\n",
       "      <td>0</td>\n",
       "      <td>1</td>\n",
       "    </tr>\n",
       "    <tr>\n",
       "      <th>4</th>\n",
       "      <td>Every day car usage has many negative conseque...</td>\n",
       "      <td>4</td>\n",
       "      <td>0</td>\n",
       "      <td>1</td>\n",
       "    </tr>\n",
       "  </tbody>\n",
       "</table>\n",
       "</div>"
      ],
      "text/plain": [
       "                                                text  id  prompt_id  generated\n",
       "0  global  level, cars are a major contributor to...   0          0          1\n",
       "1  To  inform fellow citizens about the advantage...   1          0          1\n",
       "2  Smog.  Traffic. Runaway emissions. Our love af...   2          0          1\n",
       "3  Imagine  a city where the streets are free of ...   3          0          1\n",
       "4  Every day car usage has many negative conseque...   4          0          1"
      ]
     },
     "execution_count": 42,
     "metadata": {},
     "output_type": "execute_result"
    }
   ],
   "source": [
    "synt_texts_df.head()"
   ]
  },
  {
   "cell_type": "code",
   "execution_count": 43,
   "id": "95138cb4-23fa-463b-a404-62671aef89b7",
   "metadata": {},
   "outputs": [],
   "source": [
    "# объединяем датасеты и перемешиваем порядок текстов\n",
    "essays_for_labelling = pd.concat((synt_texts_df, train_essays.sample(num_texts)))\n",
    "essays_for_labelling = essays_for_labelling.sample(frac=1)"
   ]
  },
  {
   "cell_type": "code",
   "execution_count": 44,
   "id": "91e6e253-b28b-4ac0-9658-3c1ad9fa3380",
   "metadata": {},
   "outputs": [],
   "source": [
    "# сохраняем датасет\n",
    "essays_for_labelling.to_csv(\"essays_for_labelling.csv\")"
   ]
  },
  {
   "cell_type": "markdown",
   "id": "4bfff378-1eba-4eb7-81e4-809b3265aaac",
   "metadata": {},
   "source": [
    "Так мы получили датасет, в котором 100 текстов: 50, написанных человеком, и 50, сгенерированных нейросетью"
   ]
  },
  {
   "cell_type": "markdown",
   "id": "5a24e4ad-9fee-4351-a7c7-00499356cc7a",
   "metadata": {},
   "source": [
    "Разметка происходила в label studio. Подробности в README."
   ]
  },
  {
   "cell_type": "markdown",
   "id": "33dff2f1-2614-46e1-b39f-ed692c7de27c",
   "metadata": {},
   "source": [
    "# Annotation analysis"
   ]
  },
  {
   "cell_type": "markdown",
   "id": "5607d2ce-1572-491e-8f93-fa3567463745",
   "metadata": {},
   "source": [
    "## Loding annotation"
   ]
  },
  {
   "cell_type": "code",
   "execution_count": 307,
   "id": "2ee4be0f-164d-43d7-8616-b003d51c22f7",
   "metadata": {},
   "outputs": [],
   "source": [
    "annotated_df = pd.read_csv(\"annotation.csv\")"
   ]
  },
  {
   "cell_type": "code",
   "execution_count": 308,
   "id": "763bffd8-b7fa-4f8a-b0dd-607f1a331617",
   "metadata": {},
   "outputs": [
    {
     "data": {
      "text/html": [
       "<div>\n",
       "<style scoped>\n",
       "    .dataframe tbody tr th:only-of-type {\n",
       "        vertical-align: middle;\n",
       "    }\n",
       "\n",
       "    .dataframe tbody tr th {\n",
       "        vertical-align: top;\n",
       "    }\n",
       "\n",
       "    .dataframe thead th {\n",
       "        text-align: right;\n",
       "    }\n",
       "</style>\n",
       "<table border=\"1\" class=\"dataframe\">\n",
       "  <thead>\n",
       "    <tr style=\"text-align: right;\">\n",
       "      <th></th>\n",
       "      <th>Unnamed: 0</th>\n",
       "      <th>annotation_id</th>\n",
       "      <th>annotator</th>\n",
       "      <th>answer</th>\n",
       "      <th>created_at</th>\n",
       "      <th>generated</th>\n",
       "      <th>id</th>\n",
       "      <th>lead_time</th>\n",
       "      <th>other_features</th>\n",
       "      <th>prompt_id</th>\n",
       "      <th>value</th>\n",
       "      <th>text</th>\n",
       "      <th>updated_at</th>\n",
       "    </tr>\n",
       "  </thead>\n",
       "  <tbody>\n",
       "    <tr>\n",
       "      <th>0</th>\n",
       "      <td>707</td>\n",
       "      <td>1</td>\n",
       "      <td>2</td>\n",
       "      <td>[{\"end\":125,\"text\":\"help help us us a world\",\"...</td>\n",
       "      <td>2023-12-03T07:14:45.911309Z</td>\n",
       "      <td>0</td>\n",
       "      <td>829e720d</td>\n",
       "      <td>727.302</td>\n",
       "      <td>{\"text\":[\"много ошибок\",\"хромает логика\",\"мног...</td>\n",
       "      <td>0</td>\n",
       "      <td>Human</td>\n",
       "      <td>Automobile accidents are very common in suburb...</td>\n",
       "      <td>2023-12-03T07:34:50.482105Z</td>\n",
       "    </tr>\n",
       "    <tr>\n",
       "      <th>1</th>\n",
       "      <td>2</td>\n",
       "      <td>30</td>\n",
       "      <td>2</td>\n",
       "      <td>[{\"end\":34,\"text\":\"Smog. Traffic. Runaway emis...</td>\n",
       "      <td>2023-12-03T16:54:07.663770Z</td>\n",
       "      <td>1</td>\n",
       "      <td>2</td>\n",
       "      <td>82.524</td>\n",
       "      <td>{\"text\":[\"абзацы одинаковой длины\",\"короткий т...</td>\n",
       "      <td>0</td>\n",
       "      <td>AI</td>\n",
       "      <td>Smog.  Traffic. Runaway emissions. Our love af...</td>\n",
       "      <td>2023-12-03T16:54:07.663804Z</td>\n",
       "    </tr>\n",
       "    <tr>\n",
       "      <th>2</th>\n",
       "      <td>916</td>\n",
       "      <td>36</td>\n",
       "      <td>5</td>\n",
       "      <td>[{\"end\":124,\"text\":\"alll \",\"start\":120,\"labels...</td>\n",
       "      <td>2023-12-05T08:49:04.141663Z</td>\n",
       "      <td>0</td>\n",
       "      <td>a5639578</td>\n",
       "      <td>419.751</td>\n",
       "      <td>{\"text\":[\"есть ошибки\\/опечатки, у моделей каж...</td>\n",
       "      <td>0</td>\n",
       "      <td>Human</td>\n",
       "      <td>Have you ever walked outside and taken a deep ...</td>\n",
       "      <td>2023-12-05T08:49:04.141682Z</td>\n",
       "    </tr>\n",
       "    <tr>\n",
       "      <th>3</th>\n",
       "      <td>406</td>\n",
       "      <td>26</td>\n",
       "      <td>2</td>\n",
       "      <td>[{\"end\":3205,\"text\":\"See whats no cars does fo...</td>\n",
       "      <td>2023-12-03T16:24:03.000280Z</td>\n",
       "      <td>0</td>\n",
       "      <td>5098c1ea</td>\n",
       "      <td>122.998</td>\n",
       "      <td>{\"text\":[\"обращение к читателю\",\"парцелляция\",...</td>\n",
       "      <td>0</td>\n",
       "      <td>Human</td>\n",
       "      <td>Many people do not rely on their cars to take ...</td>\n",
       "      <td>2023-12-03T16:24:03.000305Z</td>\n",
       "    </tr>\n",
       "    <tr>\n",
       "      <th>4</th>\n",
       "      <td>26</td>\n",
       "      <td>38</td>\n",
       "      <td>5</td>\n",
       "      <td>[{\"end\":76,\"text\":\"\\\\n\\\"In German Suburb, Life...</td>\n",
       "      <td>2023-12-05T09:54:02.336822Z</td>\n",
       "      <td>1</td>\n",
       "      <td>26</td>\n",
       "      <td>155.104</td>\n",
       "      <td>просто перечисление, что было в каждом тексте ...</td>\n",
       "      <td>0</td>\n",
       "      <td>AI</td>\n",
       "      <td>\"In  German Suburb, Life Goes On Without Cars\"...</td>\n",
       "      <td>2023-12-05T09:54:02.336858Z</td>\n",
       "    </tr>\n",
       "  </tbody>\n",
       "</table>\n",
       "</div>"
      ],
      "text/plain": [
       "   Unnamed: 0  annotation_id  annotator  \\\n",
       "0         707              1          2   \n",
       "1           2             30          2   \n",
       "2         916             36          5   \n",
       "3         406             26          2   \n",
       "4          26             38          5   \n",
       "\n",
       "                                              answer  \\\n",
       "0  [{\"end\":125,\"text\":\"help help us us a world\",\"...   \n",
       "1  [{\"end\":34,\"text\":\"Smog. Traffic. Runaway emis...   \n",
       "2  [{\"end\":124,\"text\":\"alll \",\"start\":120,\"labels...   \n",
       "3  [{\"end\":3205,\"text\":\"See whats no cars does fo...   \n",
       "4  [{\"end\":76,\"text\":\"\\\\n\\\"In German Suburb, Life...   \n",
       "\n",
       "                    created_at  generated        id  lead_time  \\\n",
       "0  2023-12-03T07:14:45.911309Z          0  829e720d    727.302   \n",
       "1  2023-12-03T16:54:07.663770Z          1         2     82.524   \n",
       "2  2023-12-05T08:49:04.141663Z          0  a5639578    419.751   \n",
       "3  2023-12-03T16:24:03.000280Z          0  5098c1ea    122.998   \n",
       "4  2023-12-05T09:54:02.336822Z          1        26    155.104   \n",
       "\n",
       "                                      other_features  prompt_id  value  \\\n",
       "0  {\"text\":[\"много ошибок\",\"хромает логика\",\"мног...          0  Human   \n",
       "1  {\"text\":[\"абзацы одинаковой длины\",\"короткий т...          0     AI   \n",
       "2  {\"text\":[\"есть ошибки\\/опечатки, у моделей каж...          0  Human   \n",
       "3  {\"text\":[\"обращение к читателю\",\"парцелляция\",...          0  Human   \n",
       "4  просто перечисление, что было в каждом тексте ...          0     AI   \n",
       "\n",
       "                                                text  \\\n",
       "0  Automobile accidents are very common in suburb...   \n",
       "1  Smog.  Traffic. Runaway emissions. Our love af...   \n",
       "2  Have you ever walked outside and taken a deep ...   \n",
       "3  Many people do not rely on their cars to take ...   \n",
       "4  \"In  German Suburb, Life Goes On Without Cars\"...   \n",
       "\n",
       "                    updated_at  \n",
       "0  2023-12-03T07:34:50.482105Z  \n",
       "1  2023-12-03T16:54:07.663804Z  \n",
       "2  2023-12-05T08:49:04.141682Z  \n",
       "3  2023-12-03T16:24:03.000305Z  \n",
       "4  2023-12-05T09:54:02.336858Z  "
      ]
     },
     "execution_count": 308,
     "metadata": {},
     "output_type": "execute_result"
    }
   ],
   "source": [
    "annotated_df.head()"
   ]
  },
  {
   "cell_type": "code",
   "execution_count": 309,
   "id": "4b1e333d-e5c3-4f81-8fe5-e26143633b40",
   "metadata": {},
   "outputs": [],
   "source": [
    "# датасет был размечен не полностью, извлекаем размеченные тексты\n",
    "annotated_df = annotated_df[annotated_df.value != \"\"]"
   ]
  },
  {
   "cell_type": "code",
   "execution_count": 310,
   "id": "e3c2d8a7-6a9f-443c-a19f-a8f8e566bf46",
   "metadata": {},
   "outputs": [
    {
     "name": "stdout",
     "output_type": "stream",
     "text": [
      "Всего размечено 35 текстов.\n"
     ]
    }
   ],
   "source": [
    "print(f\"Всего размечено {len(annotated_df)} текстов.\")"
   ]
  },
  {
   "cell_type": "markdown",
   "id": "04e5c3b2-6c05-4412-a7db-e959a8fc17cc",
   "metadata": {},
   "source": [
    "## Mistakes analysis"
   ]
  },
  {
   "cell_type": "code",
   "execution_count": 311,
   "id": "503fb142-eee0-4ba2-ae26-4c74f0965e7b",
   "metadata": {},
   "outputs": [],
   "source": [
    "annotated_df[\"value\"] = annotated_df.value.apply(lambda v: 1 if v == \"AI\" else 0)"
   ]
  },
  {
   "cell_type": "code",
   "execution_count": 312,
   "id": "de9c8288-2532-4ff3-a108-ba126ea49b2d",
   "metadata": {},
   "outputs": [
    {
     "data": {
      "text/html": [
       "<div>\n",
       "<style scoped>\n",
       "    .dataframe tbody tr th:only-of-type {\n",
       "        vertical-align: middle;\n",
       "    }\n",
       "\n",
       "    .dataframe tbody tr th {\n",
       "        vertical-align: top;\n",
       "    }\n",
       "\n",
       "    .dataframe thead th {\n",
       "        text-align: right;\n",
       "    }\n",
       "</style>\n",
       "<table border=\"1\" class=\"dataframe\">\n",
       "  <thead>\n",
       "    <tr style=\"text-align: right;\">\n",
       "      <th></th>\n",
       "      <th>text</th>\n",
       "    </tr>\n",
       "    <tr>\n",
       "      <th>value</th>\n",
       "      <th></th>\n",
       "    </tr>\n",
       "  </thead>\n",
       "  <tbody>\n",
       "    <tr>\n",
       "      <th>0</th>\n",
       "      <td>18</td>\n",
       "    </tr>\n",
       "    <tr>\n",
       "      <th>1</th>\n",
       "      <td>17</td>\n",
       "    </tr>\n",
       "  </tbody>\n",
       "</table>\n",
       "</div>"
      ],
      "text/plain": [
       "       text\n",
       "value      \n",
       "0        18\n",
       "1        17"
      ]
     },
     "execution_count": 312,
     "metadata": {},
     "output_type": "execute_result"
    }
   ],
   "source": [
    "# соотношение лейблов из разметки\n",
    "annotated_df.groupby(\"value\").agg({\"text\": \"count\"})"
   ]
  },
  {
   "cell_type": "code",
   "execution_count": 313,
   "id": "940b78de-8b48-4e08-8ac8-5141283624fb",
   "metadata": {},
   "outputs": [
    {
     "data": {
      "text/html": [
       "<div>\n",
       "<style scoped>\n",
       "    .dataframe tbody tr th:only-of-type {\n",
       "        vertical-align: middle;\n",
       "    }\n",
       "\n",
       "    .dataframe tbody tr th {\n",
       "        vertical-align: top;\n",
       "    }\n",
       "\n",
       "    .dataframe thead th {\n",
       "        text-align: right;\n",
       "    }\n",
       "</style>\n",
       "<table border=\"1\" class=\"dataframe\">\n",
       "  <thead>\n",
       "    <tr style=\"text-align: right;\">\n",
       "      <th></th>\n",
       "      <th>text</th>\n",
       "    </tr>\n",
       "    <tr>\n",
       "      <th>generated</th>\n",
       "      <th></th>\n",
       "    </tr>\n",
       "  </thead>\n",
       "  <tbody>\n",
       "    <tr>\n",
       "      <th>0</th>\n",
       "      <td>18</td>\n",
       "    </tr>\n",
       "    <tr>\n",
       "      <th>1</th>\n",
       "      <td>17</td>\n",
       "    </tr>\n",
       "  </tbody>\n",
       "</table>\n",
       "</div>"
      ],
      "text/plain": [
       "           text\n",
       "generated      \n",
       "0            18\n",
       "1            17"
      ]
     },
     "execution_count": 313,
     "metadata": {},
     "output_type": "execute_result"
    }
   ],
   "source": [
    "# соотношение ground truth лейблов\n",
    "annotated_df.groupby(\"generated\").agg({\"text\": \"count\"})"
   ]
  },
  {
   "cell_type": "markdown",
   "id": "370cc9ca-7e37-4eb7-a9c0-ccdddf80d456",
   "metadata": {},
   "source": [
    "Соотношение лейблов в разметке и в исходных данных совпадает. Просто случайность или разметка прошла полностью без ошибок?"
   ]
  },
  {
   "cell_type": "code",
   "execution_count": 314,
   "id": "eb049ae9-165d-4f4b-861b-68fdb6bfcae2",
   "metadata": {},
   "outputs": [],
   "source": [
    "annotated_df[\"correct\"] = annotated_df.generated == annotated_df.value\n",
    "incorrect = annotated_df[~annotated_df[\"correct\"]]"
   ]
  },
  {
   "cell_type": "code",
   "execution_count": 315,
   "id": "15404ff2-55a7-4bb7-bdb8-0bb8f2968251",
   "metadata": {},
   "outputs": [
    {
     "name": "stdout",
     "output_type": "stream",
     "text": [
      "6 текстов размечены неверно.\n"
     ]
    }
   ],
   "source": [
    "print(f\"{len(incorrect)} текстов размечены неверно.\")"
   ]
  },
  {
   "cell_type": "markdown",
   "id": "8a848a72-71cb-4b6b-966c-a7b85001415d",
   "metadata": {},
   "source": [
    "6 ошибок все же есть. Посмотрим на них поближе:"
   ]
  },
  {
   "cell_type": "code",
   "execution_count": 318,
   "id": "989f3dd2-1f05-4fc9-a1b0-62c104b24401",
   "metadata": {},
   "outputs": [],
   "source": [
    "def display_text(text, spans):\n",
    "    if spans and isinstance(spans, str):\n",
    "        spans = json.loads(spans)\n",
    "    else:\n",
    "        spans = []\n",
    "    style = \"AI{background-color:#FF0000} Human{background-color:#008000}\"\n",
    "    colored_text = list(text)\n",
    "    num_paragraphs = 0\n",
    "    for s in spans:\n",
    "        start = s[\"start\"]\n",
    "        end = s[\"end\"]\n",
    "        label = s[\"labels\"][0]\n",
    "        num_linebreaks = text[:start].count(\"\\n\")\n",
    "        start = start + num_linebreaks\n",
    "        end = end + num_linebreaks\n",
    "        colored_text[start] = f\"<{label}>{colored_text[start]}\"\n",
    "        colored_text[end] = f\"{colored_text[end]}</{label}>\"\n",
    "    content = \"\".join(colored_text).replace(\"\\n\", \"<br>\")\n",
    "    html = f\"<style>{style}</style> <div> {content} </div>\"\n",
    "    display(HTML(html))"
   ]
  },
  {
   "cell_type": "code",
   "execution_count": 319,
   "id": "18975cc2-7f76-4e8b-8ce1-01823f9607e8",
   "metadata": {},
   "outputs": [
    {
     "name": "stdout",
     "output_type": "stream",
     "text": [
      "Essay 3\n"
     ]
    },
    {
     "data": {
      "text/html": [
       "<style>AI{background-color:#FF0000} Human{background-color:#008000}</style> <div> Imagine  a city where the streets are free of traffic jams and smog. Where people walk, bike, and take public transit instead of driving everywhere. This vision is becoming a reality in places like Vauban, Germany and Bogota, Colombia. These cities are pioneering alternatives to car-centric suburban life.\r",
       "<br>\r",
       "<br>There are several key advantages to limiting car usage in cities and suburbs:\r",
       "<br>\r",
       "<br>Reduced Greenhouse Gas Emissions: Cars produce significant greenhouse gas emissions that contribute to climate change. Cutting car usage can drastically reduce a city's carbon footprint. For example, passenger cars are responsible for 12% of Europe's emissions and up to 50% in some car-heavy U.S. areas. Promoting public transit over private vehicles is crucial for meeting emissions reduction targets.\r",
       "<br>\r",
       "<br>Cleaner Air: With fewer cars on the roads, cities can clear up smog and air pollution. Paris saw its congestion reduced by 60% and its smog dissipate during a driving ban. Meanwhile, Bogota's car-free days have helped lower air pollution. Cleaner air means better health for citizens.\r",
       "<br>\r",
       "<br>Less Traffic and Stress: Vauban, Germany residents report being much happier and less stressed without owning a car. The sounds of children and bikes have replaced traffic noise. And in Bogota, banning cars for a day gives residents a \"good opportunity to take away stress.\" Less traffic also makes cities more livable.\r",
       "<br>\r",
       "<br>More Opportunities for Exercise: Car-free communities encourage more walking and biking. Building bike lanes and pedestrian-friendly sidewalks motivates residents to get outdoors. This promotes healthy lifestyles and addresses public health issues like obesity.\r",
       "<br>\r",
       "<br>Overall, limiting car usage through urban planning and policy initiatives like car-free days has social, environmental, and economic benefits. More cities worldwide are catching onto the advantages of reducing dependence on private vehicles. The decline of car culture is spinning into a big hit globally.\r",
       "<br> </div>"
      ],
      "text/plain": [
       "<IPython.core.display.HTML object>"
      ]
     },
     "metadata": {},
     "output_type": "display_data"
    },
    {
     "name": "stdout",
     "output_type": "stream",
     "text": [
      "Annotation: 0\n",
      "Ground truth: 1\n",
      "Comments: nan\n",
      "\n",
      "-----\n",
      "\n",
      "Essay 52906497\n"
     ]
    },
    {
     "data": {
      "text/html": [
       "<style>AI{background-color:#FF0000} Human{background-color:#008000}</style> <div> Beep! Beep! Everyday people around the world drive to accommodate their busy schedule. With so many vehicles swarming the streets of the world there is bound to be consequences. Although it is impossible to understand how todays actions will affect the future. We can hypothesise that by reducing car usage we can preserve the world by lowering emissions and conserving resources, create stronger communities, and keep cities beautiful.\r",
       "<br>\r",
       "<br>Today nations around the world are working to create communities that offer an enjoyable life without the use of a car. For example in Vauban, Germany a suburban community has made car use generally forbidden. if fact poeple themselves are pushing for a way to avoid cars. In article one it was reported that \"57 percent of vaughn's families sold a car to move to that community.\" One mom reports how she enjoys to be able to walkdown the streets listening to the sound of children <AI>playingArticle 1.</AI> In America teenagers are driving later because they don't feel the need to drive. In article four Elisabeth Rosenthal has found that her children would rather find summer jobs that they can access without the use of car. In Bogota, Columbia the citizen have been enjoying the 118 miles of bicycle paths that have been in place since the mid1990s. Today they continue to be enthralled with a carless city with the pop ups of new parts and sport centers. now citizens can take a stroll and visit restaurants and upscale shopping districts all without the use of the carArticle 3. With the renewal of city centers the old life in suburbs has become less and less appealing.\r",
       "<br>\r",
       "<br>Even more importantly reducing drivers would help preserve the world. the idea is that by limiting the cars on the road emissions can be brought down. in response to smog conditions Paris, France took the intuitive to issue a partial driving ban. Article 2 Paris bans driving due to smog explains how Paris went about this feat \"On Monday motorists with even numbered license plates were ordered to leave their cars at home or suffer a 22euro fibne. The same would apply to oddnumbered plates the following day.\" During that week congestion was down 60 percent. they took this drastic approach because they were nearing the amount of smog in one ofthe most polluted city in the world, Beijing, China. According to article 4 recently in america researchers have found that the rate of car ownership is dropping. \"Many sociologists believe that is this pattern persists it wil have beneficial implications for carbon emissions and the environment, since transportation is the second largest source of america's emissions\"<AI>Article 4.\r",
       "</AI><br>\r",
       "<br>One thing is for certian the current trends is leading to less cars and the creation odf additional methods of transportation such as Ford and Mercedes who have already started to create a \"broader product range beyond the personal vechicle\"Source 4. Although Bill Ford along with other car companies would suffer from the conversion he surprisingly has been pushing for a world without <AI>carsArticle 4. </AI>In fact at the mobile world Convention in 2012\"Bill Ford laid outr a business plan for a world in which personal vechicle ownership is impractical or underirable. He proposed partening with telecommunications industry to create cities in which pedestrian, bibycle, private cars, commercial and public transportation office are woven into a connected network to save time, connserve resources, lower emissionsand imporve <AI>safetyArticle4.</AI>The world is certianly moving toward a world were car emissions are reduced, life is more enjoyable, and world city maintian their charm. By invovling yourself in this new type of world you are ensuring that future generations get to experience the same beuatiful world that exists today. There are big plans for this world join them. </div>"
      ],
      "text/plain": [
       "<IPython.core.display.HTML object>"
      ]
     },
     "metadata": {},
     "output_type": "display_data"
    },
    {
     "name": "stdout",
     "output_type": "stream",
     "text": [
      "Annotation: 1\n",
      "Ground truth: 0\n",
      "Comments: может просто съехал markdown оформление?\n",
      "\n",
      "-----\n",
      "\n",
      "Essay 29\n"
     ]
    },
    {
     "data": {
      "text/html": [
       "<style>AI{background-color:#FF0000} Human{background-color:#008000}</style> <div> <Human>People  should limit car usage because it has several advantages for citizens and the environment. </Human>\r",
       "<br>\r",
       "<Human><br>First,</Human> limiting car usage reduces air pollution and greenhouse gas emissions. Cars, especially diesel vehicles, are a major source of smog and particulate matter in cities. For example, Paris banned driving for a day due to record smog levels from car emissions. Reducing driving decreases these harmful emissions. \r",
       "<br><Human>\r",
       "<br>Second</Human>, limiting car usage promotes alternative forms of transportation like walking, biking, and public transit. Cities like Bogota, Colombia have car-free days which encourage millions of residents to use buses, bikes, and their own feet to get around. This makes cities more livable and sustainable. Studies also show younger Americans are driving less and using more shared transportation options.\r",
       "<br><Human>\r",
       "<br>Finally</Human>, reducing car dependency has health benefits. More walking and biking leads to more physical activity and less obesity and related diseases. One study found driving by young people decreased 23% from 2001-2009 as they organize their lives around public transportation and carpooling. This lifestyle shift has positive health effects.\r",
       "<br><Human>\r",
       "<br>In conclusion</Human>, limiting car usage through car-free days, taxes and fees, and urban planning decisions has clear advantages for citizens and cities. It reduces pollution, promotes sustainable transportation modes, and improves public health. Policymakers should adopt strategies to reduce over-reliance on cars.\r",
       "<br> </div>"
      ],
      "text/plain": [
       "<IPython.core.display.HTML object>"
      ]
     },
     "metadata": {},
     "output_type": "display_data"
    },
    {
     "name": "stdout",
     "output_type": "stream",
     "text": [
      "Annotation: 0\n",
      "Ground truth: 1\n",
      "Comments: кажется, что структура очень стандартная, как по шаблону из учебника\n",
      "\n",
      "-----\n",
      "\n",
      "Essay 19\n"
     ]
    },
    {
     "data": {
      "text/html": [
       "<style>AI{background-color:#FF0000} Human{background-color:#008000}</style> <div> <Human>Cars  have been a central part of American culture for decades, but there are many advantages to limiting car usage. The passages provide evidence that car ownership and usage rates are declining in the U.S. and other </Human>countries. \r",
       "<br>\r",
       "<br>One major benefit of reduced car usage is lower greenhouse gas emissions. <Human>As passage 3 states, </Human>transportation accounts for the second largest source of U.S. emissions. Limiting car usage directly reduces these harmful emissions. <Human>Passage </Human><Human>1 </Human>also notes that passenger cars produce up to 50% of emissions in some car-heavy U.S. areas and 12% of emissions in Europe. \r",
       "<br>\r",
       "<br>Reduced car usage also decreases smog and air pollution, as seen when Paris enforced a partial car ban. Passage 2 states that congestion dropped 60% and the smog cleared significantly during this driving restriction. Similarly, passage 4 describes how Bogota's car-free day drastically lowers air pollution.\r",
       "<br>\r",
       "<br>In addition, limiting car usage facilitates positive urban planning and development. <Human>Passage 1 </Human>discusses Vauban, a German suburb designed to separate car ownership from suburban life. This pedestrian-friendly design stores cars on the town's edges, freeing interior streets for biking and walking. Without personal garages or driveways, the suburb prioritizes community spaces over cars.\r",
       "<br>\r",
       "<br>Finally, attitudes are shifting away from car culture, especially among young people. <Human>Passage 5 finds that </Human>driving rates peaked in the U.S. in 2005 and have dropped nearly 9% since. Surveys show 16-39 year olds are getting driver's licenses at much lower rates than in the past. This suggests an ongoing, fundamental shift in attitudes as cars become less important for younger generations.\r",
       "<br>\r",
       "<br>In conclusion, reduced car usage provides the major advantages of lower emissions, less pollution, smarter urban design, and alignment with shifting societal attitudes. The evidence clearly shows that limiting car usage can benefit both human health and the environment.\r",
       "<br> </div>"
      ],
      "text/plain": [
       "<IPython.core.display.HTML object>"
      ]
     },
     "metadata": {},
     "output_type": "display_data"
    },
    {
     "name": "stdout",
     "output_type": "stream",
     "text": [
      "Annotation: 0\n",
      "Ground truth: 1\n",
      "Comments: nan\n",
      "\n",
      "-----\n",
      "\n",
      "Essay edfefc3f\n"
     ]
    },
    {
     "data": {
      "text/html": [
       "<style>AI{background-color:#FF0000} Human{background-color:#008000}</style> <div> <AI>The struggles in many peoples lives rely on timerelated events such as work, school, and other priorities. These time limits have been built up through our transportation and the bumps that come with it. Traffic is an obvious limit on peoples time every day. However, if traffic was nonexistent, how could these struggles be taken away? Simple, everybody gets to their destination without polluting the air or wasting time behind cars walking or using a bike is the way to go. Avoiding the usage of cars has many positives such as, being free from time constraints with transportation, being more active, and being an avid \"green\" human that is saving the Earth.</AI>\r",
       "<br>\r",
       "<br>Traffic is all around us, whether it be internet or transportation traffic. The usage of cars has limited job arrivals because of the time that should be taken to drive to the job site. Yet, job sites should be centered around the employees as cars should toned down in the first place. \"... stores are placed a walk way, on a main street, rather than in malls in some distant highway.\" Source 1, this quote directly supports and addresses a problem that has been prolonged for too long. Restaurants, sporting good stores, and shopping malls have all corralled themselves in areas that are too distant for consumers to readily access. With cars slimmed down in numbers, stores would be in place for the consumer and the employee.\r",
       "<br>\r",
       "<br>\"...millions of Colombians hiked, biked, skated, or took buses to work during a carfree day yesterday, leaving the streets of this capital eerily devoid of traffic jams.\" Source 3. When being are more active throughout the day, occurrences such as this are allowed to happen much more often. A day free of cars in Bogota left streets almost completely traffic free which in turn reduced smog and allowed for alternative <AI>transportation.Source 3. </AI>Cars allow us to ride through hundreds of miles with just the use of a few muscles. Running just 1 mile burns hundreds of calories and gets people feeling good. When people are fit and healthy, they feel better about themselves and have more confidence. The limitation of cars would allow this feeling to arise in thousands of people. People felt so good, they let nothing stop them \"The rain hasn't stopped people from participating,\" Source 3.\r",
       "<br>\r",
       "<br>Saving the Earth is extremely important and many people are aware of that. However, very few of those people take action. This is primarily because of the way our daily lives are ran. Work is a necessity to support for one's own and their families, so getting to work, whether by car or by bus, is something that will not stop. However, the alternativees of tranportation allow us to reach that goal without using gasemitting cars or buses. Bikes and even hybrid cars are now rising up in today's society \"A study last year found that driving by young people decreased 23 percent between 2001 and 2009\". Source 4. Young people have a strong influence on society and if they worry less about the car that they are driving or even driving at all, then there is certainly something going on. Cities are now also taking part in this action, \"After days of nearrecord pollution, Paris enforced a partial driving ban to clear the air of the global city... Congestion was down 60 percent in the captial of France...\" Source 2. A simple temporary ban can not only change the mind of an individuals view on using other alternativees for tranportation, but also allow them to experience those alternativees.\r",
       "<br>\r",
       "<br>The consequences that cars toll people with today are greatly weighing on an individuals daily life. They have their schedule built around their car and are constantly being time constrained because of it. The effect greenhouse gases have on the Earth is huge and has not stopped. In order to help the Earth in this parituclar topic, this action would be miraculous. Not only do many people become lazy and very unhealthy because of cars, but they also take for granted what they can do without them. Hiking and other activities are missed out on the daily because of these vehicles. Many people can accomplish new goals and set new goals if it were not for certain transportation methods. </div>"
      ],
      "text/plain": [
       "<IPython.core.display.HTML object>"
      ]
     },
     "metadata": {},
     "output_type": "display_data"
    },
    {
     "name": "stdout",
     "output_type": "stream",
     "text": [
      "Annotation: 1\n",
      "Ground truth: 0\n",
      "Comments: nan\n",
      "\n",
      "-----\n",
      "\n",
      "Essay 62b480e1\n"
     ]
    },
    {
     "data": {
      "text/html": [
       "<style>AI{background-color:#FF0000} Human{background-color:#008000}</style> <div> The culture of the car has been coming to an end. With many people now choosing to have other forms of transportation. Now in Germany they are making cities where they help banned car usage. In the romantic city of <AI>Paris,France </AI>they are now starting to banned cars due to the overload of smog. The city of <AI>Bogota,colombia </AI>is having a special day where they banned cars and see the effect of now having cars for a day. The car usage is now being observed to do damage around the world and due to that now cities all over the world is now banning the car usage. This will help to have a healthier earth and healthier people. The benefits of banning cars is going to help everyone and even our beloved earth.\r",
       "<br>\r",
       "<br>In Germany the people have made a city where they have given up their cars. The city I believe has a better way to maintain a healthy and cleaner environment than other cities in Germany. The banning of cars has been a great success with now people using bikes or walking as their means of transportation. Even though car ownership is <AI>permitted,the </AI>problem is that there are only two places to park which cost about 40,000 dollars along with your home. The result of that actions is that 70 percent of people do not own a car and 57 percent sold the car to live in the city. One person states \"When I had a car I was always tense. I'm much happier this way\" says Heidrun Walter. The citizens of this city have been feeling better about having no car you dont have the stress to have to drive you have the calm relaxing time by walking or biking. did you know that \"passenger cars are responsible for 12 percent of greenhouse gas emissions in Europe and up to 50 percent in car intensive areas in the United States<AI>.\"T</AI>he greenhouse gas has been a problem ever since the development of motor power cars. Now that we are able to stop it lets take that chance to help stop the greenhouse gas and to make cleaner and healthier cities.\r",
       "<br>\r",
       "<br>The romantic city of paris is having a bit of a problem its that its beautiful city is now being coveres in smog due to the overuse of cars. now that Paris has enforced a partial driving ban to help clear the air they can't help to notice that when there are fewer cars being operated the smog begins to clear up. The smog has always been a problem for Paris it usually has more smog than in any European country. The article states that \"Paris has 147 micrograms of perticulate matter PM per cubic meter compared with 114 in Brussels and 79.7 in London,Reuters found.\" The romantic city of Paris cant be as wonderful if it always has a problem with having too much smog I believ that the cars are the ones to blame for this matter that if the city of paris bans its cars that the smog will decrease and become a the romantic city that it is. The article states that \"diesel fuel was blamed since France has a tax policy that favors diesel over gasoline. Diesels make up 67 percent of vehicles in France compared a 53.3 percent average of diesel engines in the rest of western Europe.\" That means that it is in fact the motor cars that are the ones causeing the overflow of the smog. If the the cars are able to to be banned in paris we will see a drop in the smog and <AI>Paris will return to the romantic city </AI>that it is.\r",
       "<br>\r",
       "<br>The city of Bogota,Colombia has been celebrating the day without cars for over three years straight. The car free day help leave the streets of the capital city without any traffic jams. One problem of the road that many countries have in their capital city is that they have to many cars because of the tourist and the huge number of people who live there which causes traffic jams leaving cars in the streets for hours on end. They have the same problem in Brazil where they have one of the worlds worst traffic jams in history. The ones who delevoped the car free day was trying to promote alternative transportation and reduce smog. Someone states in the article \"It's a good opportunity to take away stress and lower air pollution\" says businessman Carlos Arturo Plaza. The stress of having a car in a countries capital can be stressful to some people and that bikeing or walking is a way to help calm someone after a busy day at work. Due to the car free day the city states that \"uneven, pitted side walks have been replaced by broad,smooth sidewalks, rush hour restirictions have dramatically cut traffic.\"The car free day i feel is benefitting everyone from getting rid of traffic jams to clearing up the smog. The replacing of cars for bikes and walking is not so much a bad idea if it will help benefit evryone around you.\r",
       "<br>\r",
       "<br>In conclusion, the car culture is now coming to its end. That nations all over the world has seen the great benefits from banning cars. The greatest effects that banning cars has is that they are helping to get rid of air pollution,stress,and the grreenhouse gas. These are all benfits for everyone it helps the ither people beside u and the environment. <AI>The romantic city of Paris </AI>was covered in smog due to cars. <Human>In Germany where they have developed a city where there is no car in sight and has everything within a walking or bike distance. </Human><AI>The city of Bogota,Colombia </AI>making a holiday that has been going on for three years straight to have no cars for a day. The people have been seeing that the effects of having no car is wonderful and that we should all do it to better ourselves and to better out enivornment. </div>"
      ],
      "text/plain": [
       "<IPython.core.display.HTML object>"
      ]
     },
     "metadata": {},
     "output_type": "display_data"
    },
    {
     "name": "stdout",
     "output_type": "stream",
     "text": [
      "Annotation: 1\n",
      "Ground truth: 0\n",
      "Comments: {\"text\":[\"слишком длинно\",\"слишком правильный текст\",\"повторяются The city of Bogota,Colombia, The romantic city of Paris\"]}\n",
      "\n",
      "-----\n",
      "\n"
     ]
    }
   ],
   "source": [
    "for index, row in incorrect.iterrows():\n",
    "    print(f\"Essay {row.id}\")\n",
    "    display_text(row.text, row.answer)\n",
    "    print(f\"Annotation: {row.value}\")\n",
    "    print(f\"Ground truth: {row.generated}\")\n",
    "    print(f\"Comments: {row.other_features}\")\n",
    "    print(\"\\n-----\\n\")"
   ]
  },
  {
   "cell_type": "markdown",
   "id": "fcc438d0-151e-46c3-8870-465d83cdb535",
   "metadata": {},
   "source": [
    "Видимо,на неправильные ответы натолкнули ошибки маркдауна (слипшиеся слова), частые повторения и шаблонная структура в человеческих текстах, ссылки на источники в сгенерированных текстах."
   ]
  },
  {
   "cell_type": "markdown",
   "id": "1fc9d4d7-e60a-4db9-8814-16cd737bb53b",
   "metadata": {},
   "source": [
    "## Quality evalution"
   ]
  },
  {
   "cell_type": "markdown",
   "id": "461a290a-2d19-4199-8de3-e2c120f34b9c",
   "metadata": {},
   "source": [
    "Сравним качество разметки у разных разметчиков."
   ]
  },
  {
   "cell_type": "code",
   "execution_count": 295,
   "id": "d2cbe137-60d0-46d5-976c-cdaa4a96cdb9",
   "metadata": {},
   "outputs": [
    {
     "data": {
      "text/html": [
       "<div>\n",
       "<style scoped>\n",
       "    .dataframe tbody tr th:only-of-type {\n",
       "        vertical-align: middle;\n",
       "    }\n",
       "\n",
       "    .dataframe tbody tr th {\n",
       "        vertical-align: top;\n",
       "    }\n",
       "\n",
       "    .dataframe thead th {\n",
       "        text-align: right;\n",
       "    }\n",
       "</style>\n",
       "<table border=\"1\" class=\"dataframe\">\n",
       "  <thead>\n",
       "    <tr style=\"text-align: right;\">\n",
       "      <th></th>\n",
       "      <th>text</th>\n",
       "      <th>correct</th>\n",
       "    </tr>\n",
       "    <tr>\n",
       "      <th>annotator</th>\n",
       "      <th></th>\n",
       "      <th></th>\n",
       "    </tr>\n",
       "  </thead>\n",
       "  <tbody>\n",
       "    <tr>\n",
       "      <th>2</th>\n",
       "      <td>21</td>\n",
       "      <td>0.904762</td>\n",
       "    </tr>\n",
       "    <tr>\n",
       "      <th>3</th>\n",
       "      <td>4</td>\n",
       "      <td>0.500000</td>\n",
       "    </tr>\n",
       "    <tr>\n",
       "      <th>4</th>\n",
       "      <td>4</td>\n",
       "      <td>0.500000</td>\n",
       "    </tr>\n",
       "    <tr>\n",
       "      <th>5</th>\n",
       "      <td>6</td>\n",
       "      <td>0.833333</td>\n",
       "    </tr>\n",
       "  </tbody>\n",
       "</table>\n",
       "</div>"
      ],
      "text/plain": [
       "           text   correct\n",
       "annotator                \n",
       "2            21  0.904762\n",
       "3             4  0.500000\n",
       "4             4  0.500000\n",
       "5             6  0.833333"
      ]
     },
     "execution_count": 295,
     "metadata": {},
     "output_type": "execute_result"
    }
   ],
   "source": [
    "annotated_df.groupby(\"annotator\").agg({\"text\": \"count\", \"correct\": \"mean\"})"
   ]
  },
  {
   "cell_type": "markdown",
   "id": "a7ec04bd-31d9-46da-bd53-41a0164dd40e",
   "metadata": {},
   "source": [
    "У разметчиков 3 и 4 качество получилось довльно низким, но, скорее всего, это связано с небольшим числом размеченных текстов. Во-первых, само количество нерепрентативно для оценки качества, во-вторых, на первых текстах они, скорее всего, \"набивали руку\". При этом на примере разметчиков 2 и 5 видно, что отличать сгенерированные тексты от написанных человеком все-таки возможно."
   ]
  },
  {
   "cell_type": "markdown",
   "id": "7de9c6c7-5f63-4b90-9744-aa0854fe8567",
   "metadata": {},
   "source": [
    "## Features of AI/Human Text"
   ]
  },
  {
   "cell_type": "code",
   "execution_count": 296,
   "id": "5d62ecf7-ad11-4070-a375-bccce8dec098",
   "metadata": {},
   "outputs": [],
   "source": [
    "def collect_text_features(generated):\n",
    "    collected_features = []\n",
    "    features = annotated_df[annotated_df.generated == generated].other_features\n",
    "    for f in features:\n",
    "        try:\n",
    "            f = json.loads(f)\n",
    "            collected_features.extend(f.get(\"text\", []))\n",
    "        except:\n",
    "            if isinstance(f, str):\n",
    "                collected_features.append(f)\n",
    "    return collected_features"
   ]
  },
  {
   "cell_type": "markdown",
   "id": "99047c0e-a722-467b-90d4-f90e02831f2e",
   "metadata": {},
   "source": [
    "На мой взгляд, идея с выделением фрагментов оказалась не очень удачной для последующего анализа, т.к. не всегда понятно, почему разметчик выделил тот или иной фрагмент и в целом это требует погружения в контекст кажого эссе. Кажется, что признаки, перечисляемые в свободной форме, лушче помогут составить общую картину."
   ]
  },
  {
   "cell_type": "code",
   "execution_count": 297,
   "id": "e6b506ff-c78f-407a-bd4f-39056c5be2d7",
   "metadata": {},
   "outputs": [],
   "source": [
    "synt_features = collect_text_features(generated=1)\n",
    "human_features = collect_text_features(generated=0)"
   ]
  },
  {
   "cell_type": "code",
   "execution_count": 298,
   "id": "bde2504d-4e08-4f1e-a081-d3cc16951871",
   "metadata": {},
   "outputs": [],
   "source": [
    "from collections import Counter"
   ]
  },
  {
   "cell_type": "code",
   "execution_count": 299,
   "id": "5b0afff6-907d-4a7a-b303-4f83af2b2d98",
   "metadata": {},
   "outputs": [
    {
     "data": {
      "text/plain": [
       "[('короткий текст', 4),\n",
       " ('скучный текст', 3),\n",
       " ('абзацы одинаковой длины', 2),\n",
       " ('просто перечисление, что было в каждом тексте из приложения к промпту; кажется это сильно выдает модель',\n",
       "  1),\n",
       " ('нумерованный список', 1),\n",
       " ('источники явно не упомниаются', 1),\n",
       " ('короткое введение', 1),\n",
       " ('слишком правильный текст', 1),\n",
       " ('модель спалилась)', 1),\n",
       " ('кажется, что структура очень стандартная, как по шаблону из учебника', 1),\n",
       " ('слишком обычный текст...', 1),\n",
       " ('длинные перечисления', 1),\n",
       " ('четкая структура, как по пунктам', 1),\n",
       " ('нет заключения', 1)]"
      ]
     },
     "execution_count": 299,
     "metadata": {},
     "output_type": "execute_result"
    }
   ],
   "source": [
    "# признаки сгенерированных текстов\n",
    "Counter(synt_features).most_common()"
   ]
  },
  {
   "cell_type": "code",
   "execution_count": 300,
   "id": "c00e7637-8057-49ec-a8fa-bcdb0303cd19",
   "metadata": {},
   "outputs": [
    {
     "data": {
      "text/plain": [
       "[('обращение к читателю', 2),\n",
       " ('неформальный текст', 2),\n",
       " ('много ошибок', 1),\n",
       " ('хромает логика', 1),\n",
       " ('много конкретных примеров', 1),\n",
       " ('часто повторяются два слова подряд', 1),\n",
       " ('явные ссылки на источники', 1),\n",
       " ('есть ошибки/опечатки, у моделей кажется с этим все нормально должно быть',\n",
       "  1),\n",
       " ('некоторые предложения какие-то косноязычные ', 1),\n",
       " ('парцелляция', 1),\n",
       " ('Похоже на человека по структуре, есть одно проблемное место с to 39yearlods',\n",
       "  1),\n",
       " ('вопросительные предложения', 1),\n",
       " ('может просто съехал markdown оформление?', 1),\n",
       " ('много личных местоимений (I, our, us); автор говорит our country, AI себя явно ни к какой стране не причисляет)',\n",
       "  1),\n",
       " ('есть ссылки на конкретные источники, возможно даже с указанием строк (вот эти 34, 24)',\n",
       "  1),\n",
       " ('часто повторяется слово \"great\"', 1),\n",
       " ('цитаты', 1),\n",
       " ('упоминания цен', 1),\n",
       " ('однозначная позиция у автора', 1),\n",
       " ('слишком длинно', 1),\n",
       " ('слишком правильный текст', 1),\n",
       " ('повторяются The city of Bogota,Colombia, The romantic city of Paris', 1),\n",
       " ('lowercase', 1),\n",
       " ('ошибки', 1),\n",
       " ('есть цитаты', 1),\n",
       " ('текст \"живой\"', 1)]"
      ]
     },
     "execution_count": 300,
     "metadata": {},
     "output_type": "execute_result"
    }
   ],
   "source": [
    "# признаки человеческих текстов\n",
    "Counter(human_features).most_common()"
   ]
  },
  {
   "cell_type": "markdown",
   "id": "e97b53bf-2c2d-4cbb-ba08-eaaf14b586e6",
   "metadata": {},
   "source": [
    "Некоторые из полученных признаков (например, наличие местоимений, списоков, повторений, длину текстов и абзацев) можно будет легко формализовать. Другие признаки (ошибки, скучность, \"косноязыкость\") формализовать будет сложнее, но так же возможно."
   ]
  },
  {
   "cell_type": "markdown",
   "id": "c31eb07f-015d-4fee-812f-454bf8c61d53",
   "metadata": {},
   "source": [
    "Таким образом, несмотря на то, что текстов было размечено не так много, нам удалось получить некоторые инсайты о различиях синтетических и человеческих текстов, которые можно будет использовать в будущем. Цель разметки в этом и состояла, поэтому можно сказать, что в каком-то виде она была достингута, хотя, скорее всего, нам понадобятся еще несколько итераций разметки."
   ]
  }
 ],
 "metadata": {
  "kernelspec": {
   "display_name": "Python 3 (ipykernel)",
   "language": "python",
   "name": "python3"
  },
  "language_info": {
   "codemirror_mode": {
    "name": "ipython",
    "version": 3
   },
   "file_extension": ".py",
   "mimetype": "text/x-python",
   "name": "python",
   "nbconvert_exporter": "python",
   "pygments_lexer": "ipython3",
   "version": "3.10.0"
  }
 },
 "nbformat": 4,
 "nbformat_minor": 5
}
