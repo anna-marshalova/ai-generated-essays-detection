{
 "cells": [
  {
   "cell_type": "code",
   "execution_count": 199,
   "id": "20e03959-7012-4848-9ace-c10c71116540",
   "metadata": {},
   "outputs": [],
   "source": [
    "import json\n",
    "import os\n",
    "import random\n",
    "\n",
    "from IPython.display import HTML, display\n",
    "import pandas as pd"
   ]
  },
  {
   "cell_type": "markdown",
   "id": "997dbba2-79c8-434c-a696-b074c199f77a",
   "metadata": {},
   "source": [
    "# Export data"
   ]
  },
  {
   "cell_type": "code",
   "execution_count": 8,
   "id": "c3932459-9ef8-41cd-9972-f27356ea6a0e",
   "metadata": {},
   "outputs": [
    {
     "data": {
      "text/html": [
       "<div>\n",
       "<style scoped>\n",
       "    .dataframe tbody tr th:only-of-type {\n",
       "        vertical-align: middle;\n",
       "    }\n",
       "\n",
       "    .dataframe tbody tr th {\n",
       "        vertical-align: top;\n",
       "    }\n",
       "\n",
       "    .dataframe thead th {\n",
       "        text-align: right;\n",
       "    }\n",
       "</style>\n",
       "<table border=\"1\" class=\"dataframe\">\n",
       "  <thead>\n",
       "    <tr style=\"text-align: right;\">\n",
       "      <th></th>\n",
       "      <th>id</th>\n",
       "      <th>prompt_id</th>\n",
       "      <th>text</th>\n",
       "      <th>generated</th>\n",
       "    </tr>\n",
       "  </thead>\n",
       "  <tbody>\n",
       "    <tr>\n",
       "      <th>0</th>\n",
       "      <td>0059830c</td>\n",
       "      <td>0</td>\n",
       "      <td>Cars. Cars have been around since they became ...</td>\n",
       "      <td>0</td>\n",
       "    </tr>\n",
       "    <tr>\n",
       "      <th>1</th>\n",
       "      <td>005db917</td>\n",
       "      <td>0</td>\n",
       "      <td>Transportation is a large necessity in most co...</td>\n",
       "      <td>0</td>\n",
       "    </tr>\n",
       "    <tr>\n",
       "      <th>2</th>\n",
       "      <td>008f63e3</td>\n",
       "      <td>0</td>\n",
       "      <td>\"America's love affair with it's vehicles seem...</td>\n",
       "      <td>0</td>\n",
       "    </tr>\n",
       "    <tr>\n",
       "      <th>3</th>\n",
       "      <td>00940276</td>\n",
       "      <td>0</td>\n",
       "      <td>How often do you ride in a car? Do you drive a...</td>\n",
       "      <td>0</td>\n",
       "    </tr>\n",
       "    <tr>\n",
       "      <th>4</th>\n",
       "      <td>00c39458</td>\n",
       "      <td>0</td>\n",
       "      <td>Cars are a wonderful thing. They are perhaps o...</td>\n",
       "      <td>0</td>\n",
       "    </tr>\n",
       "  </tbody>\n",
       "</table>\n",
       "</div>"
      ],
      "text/plain": [
       "         id  prompt_id                                               text  \\\n",
       "0  0059830c          0  Cars. Cars have been around since they became ...   \n",
       "1  005db917          0  Transportation is a large necessity in most co...   \n",
       "2  008f63e3          0  \"America's love affair with it's vehicles seem...   \n",
       "3  00940276          0  How often do you ride in a car? Do you drive a...   \n",
       "4  00c39458          0  Cars are a wonderful thing. They are perhaps o...   \n",
       "\n",
       "   generated  \n",
       "0          0  \n",
       "1          0  \n",
       "2          0  \n",
       "3          0  \n",
       "4          0  "
      ]
     },
     "execution_count": 8,
     "metadata": {},
     "output_type": "execute_result"
    }
   ],
   "source": [
    "train_essays = pd.read_csv(\"train_essays.csv\")\n",
    "train_essays = train_essays.query(\"prompt_id == 0\")\n",
    "train_essays.head()"
   ]
  },
  {
   "cell_type": "code",
   "execution_count": 38,
   "id": "b249dd8e-3990-418a-b59b-deb06c3a6f0b",
   "metadata": {},
   "outputs": [
    {
     "data": {
      "text/html": [
       "<div>\n",
       "<style scoped>\n",
       "    .dataframe tbody tr th:only-of-type {\n",
       "        vertical-align: middle;\n",
       "    }\n",
       "\n",
       "    .dataframe tbody tr th {\n",
       "        vertical-align: top;\n",
       "    }\n",
       "\n",
       "    .dataframe thead th {\n",
       "        text-align: right;\n",
       "    }\n",
       "</style>\n",
       "<table border=\"1\" class=\"dataframe\">\n",
       "  <thead>\n",
       "    <tr style=\"text-align: right;\">\n",
       "      <th></th>\n",
       "      <th>0</th>\n",
       "    </tr>\n",
       "  </thead>\n",
       "  <tbody>\n",
       "    <tr>\n",
       "      <th>0</th>\n",
       "      <td>global  level, cars are a major contributor to...</td>\n",
       "    </tr>\n",
       "    <tr>\n",
       "      <th>1</th>\n",
       "      <td>To  inform fellow citizens about the advantage...</td>\n",
       "    </tr>\n",
       "    <tr>\n",
       "      <th>2</th>\n",
       "      <td>Smog.  Traffic. Runaway emissions. Our love af...</td>\n",
       "    </tr>\n",
       "    <tr>\n",
       "      <th>3</th>\n",
       "      <td>Imagine  a city where the streets are free of ...</td>\n",
       "    </tr>\n",
       "    <tr>\n",
       "      <th>4</th>\n",
       "      <td>Every day car usage has many negative conseque...</td>\n",
       "    </tr>\n",
       "  </tbody>\n",
       "</table>\n",
       "</div>"
      ],
      "text/plain": [
       "                                                   0\n",
       "0  global  level, cars are a major contributor to...\n",
       "1  To  inform fellow citizens about the advantage...\n",
       "2  Smog.  Traffic. Runaway emissions. Our love af...\n",
       "3  Imagine  a city where the streets are free of ...\n",
       "4  Every day car usage has many negative conseque..."
      ]
     },
     "execution_count": 38,
     "metadata": {},
     "output_type": "execute_result"
    }
   ],
   "source": [
    "with open(\"generated_essays_0.json\") as jf:\n",
    "    synt_texts = json.load(jf)\n",
    "synt_texts_df = pd.DataFrame(synt_texts)\n",
    "synt_texts_df.head()"
   ]
  },
  {
   "cell_type": "code",
   "execution_count": 32,
   "id": "c0fa284e-0c5c-4a99-8240-4c2a13ac3d52",
   "metadata": {},
   "outputs": [
    {
     "data": {
      "text/plain": [
       "50"
      ]
     },
     "execution_count": 32,
     "metadata": {},
     "output_type": "execute_result"
    }
   ],
   "source": [
    "num_texts = len(synt_texts_df)\n",
    "num_texts"
   ]
  },
  {
   "cell_type": "code",
   "execution_count": 39,
   "id": "fce70849-186a-4a6c-b8f2-ac78d625f71e",
   "metadata": {},
   "outputs": [],
   "source": [
    "# приводим датасеты в единый формат\n",
    "synt_texts_df = synt_texts_df.rename(columns={synt_texts_df.columns[0]: \"text\"})\n",
    "synt_texts_df[\"id\"] = synt_texts_df.index\n",
    "synt_texts_df = synt_texts_df.assign(prompt_id=0)\n",
    "synt_texts_df = synt_texts_df.assign(generated=1)  # все тексты сгегерированы"
   ]
  },
  {
   "cell_type": "code",
   "execution_count": 40,
   "id": "a5813f9c-bed2-4048-b74e-ad69ad366bb5",
   "metadata": {},
   "outputs": [
    {
     "name": "stdout",
     "output_type": "stream",
     "text": [
      "Some  advantages for citizens in limiting car usage that can be drawn from the passage set include:\n",
      "\n",
      "1) Reduced stress and improved quality of life. Residents of Vauban, Germany who chose to live in a car-free community report being \"much happier\" without cars. With less cars clogging the streets, citizens can walk, bike, and play more freely, reducing stress and creating a positive community atmosphere. \n",
      "\n",
      "2) Improved air quality and public health. Fewer cars means less vehicle emissions polluting the air, leading to reduced smog. For example, Bogota, Colombia has seen improvements in air quality after implementing a \"Day Without Cars.\" And Paris had to issue driving bans due to dangerous smog levels caused in part by diesel emissions. Limiting cars can literally save lives and allow the public to breathe easier.  \n",
      "\n",
      "3) Promotion of alternative sustainable transport. With cars off the streets, citizens are incentivized to use public transport, walk, or bike for their daily commutes. These modes of transport have zero emissions, and managing life without owning a car leads to adopting more sustainable behaviors long-term. The environmental benefits include reducing CO2 emissions and greenhouse gases that contribute to climate change. Researchers show that Americans are driving less, and young people especially are disinterested in cars, signaling a cultural shift away from car culture. \n",
      "\n",
      "In conclusion, limiting car usage benefits citizens' mental health and wellbeing, air quality, public health, and environmental sustainability. Promoting car-free communities and personal habits that reduce car usage would improve the lives of citizens across all these measures.\n",
      "</essay>\n"
     ]
    }
   ],
   "source": [
    "i = random.randint(0, num_texts)\n",
    "print(synt_texts_df.iloc[i].text)"
   ]
  },
  {
   "cell_type": "code",
   "execution_count": 41,
   "id": "efc1988c-21e5-4daf-94cf-7d372fe806f7",
   "metadata": {},
   "outputs": [
    {
     "name": "stdout",
     "output_type": "stream",
     "text": [
      "Some  advantages for citizens in limiting car usage that can be drawn from the passage set include:\n",
      "\n",
      "1) Reduced stress and improved quality of life. Residents of Vauban, Germany who chose to live in a car-free community report being \"much happier\" without cars. With less cars clogging the streets, citizens can walk, bike, and play more freely, reducing stress and creating a positive community atmosphere. \n",
      "\n",
      "2) Improved air quality and public health. Fewer cars means less vehicle emissions polluting the air, leading to reduced smog. For example, Bogota, Colombia has seen improvements in air quality after implementing a \"Day Without Cars.\" And Paris had to issue driving bans due to dangerous smog levels caused in part by diesel emissions. Limiting cars can literally save lives and allow the public to breathe easier.  \n",
      "\n",
      "3) Promotion of alternative sustainable transport. With cars off the streets, citizens are incentivized to use public transport, walk, or bike for their daily commutes. These modes of transport have zero emissions, and managing life without owning a car leads to adopting more sustainable behaviors long-term. The environmental benefits include reducing CO2 emissions and greenhouse gases that contribute to climate change. Researchers show that Americans are driving less, and young people especially are disinterested in cars, signaling a cultural shift away from car culture. \n",
      "\n",
      "In conclusion, limiting car usage benefits citizens' mental health and wellbeing, air quality, public health, and environmental sustainability. Promoting car-free communities and personal habits that reduce car usage would improve the lives of citizens across all these measures.\n",
      "\n"
     ]
    }
   ],
   "source": [
    "# убираем тег </essay>, стоящий в конце каждого эссе\n",
    "synt_texts_df[\"text\"] = synt_texts_df[\"text\"].apply(\n",
    "    lambda text: text.replace(\"</essay>\", \"\")\n",
    ")\n",
    "print(synt_texts_df.iloc[i].text)"
   ]
  },
  {
   "cell_type": "code",
   "execution_count": 42,
   "id": "30ceaf4b-639e-425f-acc2-de78d75ade1e",
   "metadata": {},
   "outputs": [
    {
     "data": {
      "text/html": [
       "<div>\n",
       "<style scoped>\n",
       "    .dataframe tbody tr th:only-of-type {\n",
       "        vertical-align: middle;\n",
       "    }\n",
       "\n",
       "    .dataframe tbody tr th {\n",
       "        vertical-align: top;\n",
       "    }\n",
       "\n",
       "    .dataframe thead th {\n",
       "        text-align: right;\n",
       "    }\n",
       "</style>\n",
       "<table border=\"1\" class=\"dataframe\">\n",
       "  <thead>\n",
       "    <tr style=\"text-align: right;\">\n",
       "      <th></th>\n",
       "      <th>text</th>\n",
       "      <th>id</th>\n",
       "      <th>prompt_id</th>\n",
       "      <th>generated</th>\n",
       "    </tr>\n",
       "  </thead>\n",
       "  <tbody>\n",
       "    <tr>\n",
       "      <th>0</th>\n",
       "      <td>global  level, cars are a major contributor to...</td>\n",
       "      <td>0</td>\n",
       "      <td>0</td>\n",
       "      <td>1</td>\n",
       "    </tr>\n",
       "    <tr>\n",
       "      <th>1</th>\n",
       "      <td>To  inform fellow citizens about the advantage...</td>\n",
       "      <td>1</td>\n",
       "      <td>0</td>\n",
       "      <td>1</td>\n",
       "    </tr>\n",
       "    <tr>\n",
       "      <th>2</th>\n",
       "      <td>Smog.  Traffic. Runaway emissions. Our love af...</td>\n",
       "      <td>2</td>\n",
       "      <td>0</td>\n",
       "      <td>1</td>\n",
       "    </tr>\n",
       "    <tr>\n",
       "      <th>3</th>\n",
       "      <td>Imagine  a city where the streets are free of ...</td>\n",
       "      <td>3</td>\n",
       "      <td>0</td>\n",
       "      <td>1</td>\n",
       "    </tr>\n",
       "    <tr>\n",
       "      <th>4</th>\n",
       "      <td>Every day car usage has many negative conseque...</td>\n",
       "      <td>4</td>\n",
       "      <td>0</td>\n",
       "      <td>1</td>\n",
       "    </tr>\n",
       "  </tbody>\n",
       "</table>\n",
       "</div>"
      ],
      "text/plain": [
       "                                                text  id  prompt_id  generated\n",
       "0  global  level, cars are a major contributor to...   0          0          1\n",
       "1  To  inform fellow citizens about the advantage...   1          0          1\n",
       "2  Smog.  Traffic. Runaway emissions. Our love af...   2          0          1\n",
       "3  Imagine  a city where the streets are free of ...   3          0          1\n",
       "4  Every day car usage has many negative conseque...   4          0          1"
      ]
     },
     "execution_count": 42,
     "metadata": {},
     "output_type": "execute_result"
    }
   ],
   "source": [
    "synt_texts_df.head()"
   ]
  },
  {
   "cell_type": "code",
   "execution_count": 43,
   "id": "95138cb4-23fa-463b-a404-62671aef89b7",
   "metadata": {},
   "outputs": [],
   "source": [
    "# объединяем датасеты и перемешиваем порядок текстов\n",
    "essays_for_labelling = pd.concat((synt_texts_df, train_essays.sample(num_texts)))\n",
    "essays_for_labelling = essays_for_labelling.sample(frac=1)"
   ]
  },
  {
   "cell_type": "code",
   "execution_count": 44,
   "id": "91e6e253-b28b-4ac0-9658-3c1ad9fa3380",
   "metadata": {},
   "outputs": [],
   "source": [
    "# сохраняем датасет\n",
    "essays_for_labelling.to_csv(\"essays_for_labelling.csv\")"
   ]
  },
  {
   "cell_type": "code",
   "execution_count": null,
   "id": "7f7998ce-3985-45e0-8f8b-deca3380de91",
   "metadata": {},
   "outputs": [],
   "source": [
    "Так мы получили датасет, в котором 100 текстов: 50, написанных человеком, и 50, сгенерированных нейросетью"
   ]
  },
  {
   "cell_type": "markdown",
   "id": "3df78fb0-95db-4d31-a831-c29fb2053242",
   "metadata": {},
   "source": [
    "# Annotation"
   ]
  },
  {
   "cell_type": "markdown",
   "id": "5a24e4ad-9fee-4351-a7c7-00499356cc7a",
   "metadata": {},
   "source": [
    "Разметка происходила в label studio. Подробности в README."
   ]
  },
  {
   "cell_type": "markdown",
   "id": "33dff2f1-2614-46e1-b39f-ed692c7de27c",
   "metadata": {},
   "source": [
    "# Annotation analysis"
   ]
  },
  {
   "cell_type": "code",
   "execution_count": 49,
   "id": "2ee4be0f-164d-43d7-8616-b003d51c22f7",
   "metadata": {},
   "outputs": [],
   "source": [
    "annotated_df = pd.read_csv(\"annotation.csv\")"
   ]
  },
  {
   "cell_type": "code",
   "execution_count": 50,
   "id": "763bffd8-b7fa-4f8a-b0dd-607f1a331617",
   "metadata": {},
   "outputs": [
    {
     "data": {
      "text/html": [
       "<div>\n",
       "<style scoped>\n",
       "    .dataframe tbody tr th:only-of-type {\n",
       "        vertical-align: middle;\n",
       "    }\n",
       "\n",
       "    .dataframe tbody tr th {\n",
       "        vertical-align: top;\n",
       "    }\n",
       "\n",
       "    .dataframe thead th {\n",
       "        text-align: right;\n",
       "    }\n",
       "</style>\n",
       "<table border=\"1\" class=\"dataframe\">\n",
       "  <thead>\n",
       "    <tr style=\"text-align: right;\">\n",
       "      <th></th>\n",
       "      <th>Unnamed: 0</th>\n",
       "      <th>annotation_id</th>\n",
       "      <th>annotator</th>\n",
       "      <th>answer</th>\n",
       "      <th>created_at</th>\n",
       "      <th>generated</th>\n",
       "      <th>id</th>\n",
       "      <th>lead_time</th>\n",
       "      <th>other_features</th>\n",
       "      <th>prompt_id</th>\n",
       "      <th>value</th>\n",
       "      <th>text</th>\n",
       "      <th>updated_at</th>\n",
       "    </tr>\n",
       "  </thead>\n",
       "  <tbody>\n",
       "    <tr>\n",
       "      <th>0</th>\n",
       "      <td>387</td>\n",
       "      <td>11</td>\n",
       "      <td>2</td>\n",
       "      <td>[{\"end\":1902,\"text\":\"moreover\",\"start\":1894,\"l...</td>\n",
       "      <td>2023-12-03T09:18:31.609268Z</td>\n",
       "      <td>0</td>\n",
       "      <td>4d2bb193</td>\n",
       "      <td>1807.014</td>\n",
       "      <td>{\"text\":[\"lowercase\",\"ошибки\",\"есть цитаты\"]}</td>\n",
       "      <td>0</td>\n",
       "      <td>Human</td>\n",
       "      <td>Over the past years massive car usage has incr...</td>\n",
       "      <td>2023-12-03T09:18:31.609292Z</td>\n",
       "    </tr>\n",
       "    <tr>\n",
       "      <th>1</th>\n",
       "      <td>24</td>\n",
       "      <td>27</td>\n",
       "      <td>2</td>\n",
       "      <td>[{\"end\":79,\"text\":\"several disadvantages\",\"sta...</td>\n",
       "      <td>2023-12-03T16:25:23.496489Z</td>\n",
       "      <td>1</td>\n",
       "      <td>24</td>\n",
       "      <td>79.940</td>\n",
       "      <td>{\"text\":[\"короткое введение\",\"короткий текст\",...</td>\n",
       "      <td>0</td>\n",
       "      <td>AI</td>\n",
       "      <td>When  relying solely on cars and other persona...</td>\n",
       "      <td>2023-12-03T16:25:23.496517Z</td>\n",
       "    </tr>\n",
       "    <tr>\n",
       "      <th>2</th>\n",
       "      <td>506</td>\n",
       "      <td>17</td>\n",
       "      <td>2</td>\n",
       "      <td>[{\"end\":227,\"text\":\"Paris,France\",\"start\":215,...</td>\n",
       "      <td>2023-12-03T10:22:39.494931Z</td>\n",
       "      <td>0</td>\n",
       "      <td>62b480e1</td>\n",
       "      <td>311.635</td>\n",
       "      <td>{\"text\":[\"слишком длинно\",\"слишком правильный ...</td>\n",
       "      <td>0</td>\n",
       "      <td>AI</td>\n",
       "      <td>The culture of the car has been coming to an e...</td>\n",
       "      <td>2023-12-03T10:22:39.494956Z</td>\n",
       "    </tr>\n",
       "    <tr>\n",
       "      <th>3</th>\n",
       "      <td>12</td>\n",
       "      <td>29</td>\n",
       "      <td>2</td>\n",
       "      <td>NaN</td>\n",
       "      <td>2023-12-03T16:27:46.866362Z</td>\n",
       "      <td>1</td>\n",
       "      <td>12</td>\n",
       "      <td>76.328</td>\n",
       "      <td>абзацы одинаковой длины</td>\n",
       "      <td>0</td>\n",
       "      <td>AI</td>\n",
       "      <td>Todays  transportation system revolves around ...</td>\n",
       "      <td>2023-12-03T16:27:46.866389Z</td>\n",
       "    </tr>\n",
       "    <tr>\n",
       "      <th>4</th>\n",
       "      <td>44</td>\n",
       "      <td>9</td>\n",
       "      <td>2</td>\n",
       "      <td>[{\"end\":289,\"text\":\"reduces traffic congestion...</td>\n",
       "      <td>2023-12-03T08:48:27.640778Z</td>\n",
       "      <td>1</td>\n",
       "      <td>44</td>\n",
       "      <td>130.067</td>\n",
       "      <td>{\"text\":[\"слишком обычный текст...\",\"длинные п...</td>\n",
       "      <td>0</td>\n",
       "      <td>AI</td>\n",
       "      <td>Life  without cars has many advantages for cit...</td>\n",
       "      <td>2023-12-03T08:48:27.640800Z</td>\n",
       "    </tr>\n",
       "  </tbody>\n",
       "</table>\n",
       "</div>"
      ],
      "text/plain": [
       "   Unnamed: 0  annotation_id  annotator  \\\n",
       "0         387             11          2   \n",
       "1          24             27          2   \n",
       "2         506             17          2   \n",
       "3          12             29          2   \n",
       "4          44              9          2   \n",
       "\n",
       "                                              answer  \\\n",
       "0  [{\"end\":1902,\"text\":\"moreover\",\"start\":1894,\"l...   \n",
       "1  [{\"end\":79,\"text\":\"several disadvantages\",\"sta...   \n",
       "2  [{\"end\":227,\"text\":\"Paris,France\",\"start\":215,...   \n",
       "3                                                NaN   \n",
       "4  [{\"end\":289,\"text\":\"reduces traffic congestion...   \n",
       "\n",
       "                    created_at  generated        id  lead_time  \\\n",
       "0  2023-12-03T09:18:31.609268Z          0  4d2bb193   1807.014   \n",
       "1  2023-12-03T16:25:23.496489Z          1        24     79.940   \n",
       "2  2023-12-03T10:22:39.494931Z          0  62b480e1    311.635   \n",
       "3  2023-12-03T16:27:46.866362Z          1        12     76.328   \n",
       "4  2023-12-03T08:48:27.640778Z          1        44    130.067   \n",
       "\n",
       "                                      other_features  prompt_id  value  \\\n",
       "0      {\"text\":[\"lowercase\",\"ошибки\",\"есть цитаты\"]}          0  Human   \n",
       "1  {\"text\":[\"короткое введение\",\"короткий текст\",...          0     AI   \n",
       "2  {\"text\":[\"слишком длинно\",\"слишком правильный ...          0     AI   \n",
       "3                            абзацы одинаковой длины          0     AI   \n",
       "4  {\"text\":[\"слишком обычный текст...\",\"длинные п...          0     AI   \n",
       "\n",
       "                                                text  \\\n",
       "0  Over the past years massive car usage has incr...   \n",
       "1  When  relying solely on cars and other persona...   \n",
       "2  The culture of the car has been coming to an e...   \n",
       "3  Todays  transportation system revolves around ...   \n",
       "4  Life  without cars has many advantages for cit...   \n",
       "\n",
       "                    updated_at  \n",
       "0  2023-12-03T09:18:31.609292Z  \n",
       "1  2023-12-03T16:25:23.496517Z  \n",
       "2  2023-12-03T10:22:39.494956Z  \n",
       "3  2023-12-03T16:27:46.866389Z  \n",
       "4  2023-12-03T08:48:27.640800Z  "
      ]
     },
     "execution_count": 50,
     "metadata": {},
     "output_type": "execute_result"
    }
   ],
   "source": [
    "annotated_df.head()"
   ]
  },
  {
   "cell_type": "code",
   "execution_count": 53,
   "id": "4b1e333d-e5c3-4f81-8fe5-e26143633b40",
   "metadata": {},
   "outputs": [],
   "source": [
    "# датасет был размечен не полностью, извлекаем размеченные тексты\n",
    "annotated_df = annotated_df[annotated_df.value != \"\"]"
   ]
  },
  {
   "cell_type": "code",
   "execution_count": 54,
   "id": "e3c2d8a7-6a9f-443c-a19f-a8f8e566bf46",
   "metadata": {},
   "outputs": [
    {
     "data": {
      "text/plain": [
       "25"
      ]
     },
     "execution_count": 54,
     "metadata": {},
     "output_type": "execute_result"
    }
   ],
   "source": [
    "len(annotated_df)"
   ]
  },
  {
   "cell_type": "markdown",
   "id": "8ab571aa-d641-4940-8b69-97cf608d9e95",
   "metadata": {},
   "source": [
    "Всего было размечено 25 текстов."
   ]
  },
  {
   "cell_type": "code",
   "execution_count": 56,
   "id": "503fb142-eee0-4ba2-ae26-4c74f0965e7b",
   "metadata": {},
   "outputs": [],
   "source": [
    "annotated_df[\"value\"] = annotated_df.value.apply(lambda v: 1 if v == \"AI\" else 0)"
   ]
  },
  {
   "cell_type": "code",
   "execution_count": 66,
   "id": "de9c8288-2532-4ff3-a108-ba126ea49b2d",
   "metadata": {},
   "outputs": [
    {
     "data": {
      "text/html": [
       "<div>\n",
       "<style scoped>\n",
       "    .dataframe tbody tr th:only-of-type {\n",
       "        vertical-align: middle;\n",
       "    }\n",
       "\n",
       "    .dataframe tbody tr th {\n",
       "        vertical-align: top;\n",
       "    }\n",
       "\n",
       "    .dataframe thead th {\n",
       "        text-align: right;\n",
       "    }\n",
       "</style>\n",
       "<table border=\"1\" class=\"dataframe\">\n",
       "  <thead>\n",
       "    <tr style=\"text-align: right;\">\n",
       "      <th></th>\n",
       "      <th>text</th>\n",
       "    </tr>\n",
       "    <tr>\n",
       "      <th>value</th>\n",
       "      <th></th>\n",
       "    </tr>\n",
       "  </thead>\n",
       "  <tbody>\n",
       "    <tr>\n",
       "      <th>0</th>\n",
       "      <td>14</td>\n",
       "    </tr>\n",
       "    <tr>\n",
       "      <th>1</th>\n",
       "      <td>11</td>\n",
       "    </tr>\n",
       "  </tbody>\n",
       "</table>\n",
       "</div>"
      ],
      "text/plain": [
       "       text\n",
       "value      \n",
       "0        14\n",
       "1        11"
      ]
     },
     "execution_count": 66,
     "metadata": {},
     "output_type": "execute_result"
    }
   ],
   "source": [
    "annotated_df.groupby(\"value\").agg({\"text\": \"count\"})"
   ]
  },
  {
   "cell_type": "code",
   "execution_count": 67,
   "id": "940b78de-8b48-4e08-8ac8-5141283624fb",
   "metadata": {},
   "outputs": [
    {
     "data": {
      "text/html": [
       "<div>\n",
       "<style scoped>\n",
       "    .dataframe tbody tr th:only-of-type {\n",
       "        vertical-align: middle;\n",
       "    }\n",
       "\n",
       "    .dataframe tbody tr th {\n",
       "        vertical-align: top;\n",
       "    }\n",
       "\n",
       "    .dataframe thead th {\n",
       "        text-align: right;\n",
       "    }\n",
       "</style>\n",
       "<table border=\"1\" class=\"dataframe\">\n",
       "  <thead>\n",
       "    <tr style=\"text-align: right;\">\n",
       "      <th></th>\n",
       "      <th>text</th>\n",
       "    </tr>\n",
       "    <tr>\n",
       "      <th>generated</th>\n",
       "      <th></th>\n",
       "    </tr>\n",
       "  </thead>\n",
       "  <tbody>\n",
       "    <tr>\n",
       "      <th>0</th>\n",
       "      <td>14</td>\n",
       "    </tr>\n",
       "    <tr>\n",
       "      <th>1</th>\n",
       "      <td>11</td>\n",
       "    </tr>\n",
       "  </tbody>\n",
       "</table>\n",
       "</div>"
      ],
      "text/plain": [
       "           text\n",
       "generated      \n",
       "0            14\n",
       "1            11"
      ]
     },
     "execution_count": 67,
     "metadata": {},
     "output_type": "execute_result"
    }
   ],
   "source": [
    "annotated_df.groupby(\"generated\").agg({\"text\": \"count\"})"
   ]
  },
  {
   "cell_type": "code",
   "execution_count": 203,
   "id": "eb049ae9-165d-4f4b-861b-68fdb6bfcae2",
   "metadata": {},
   "outputs": [],
   "source": [
    "annotated_df['correct'] = annotated_df.generated == annotated_df.value"
   ]
  },
  {
   "cell_type": "code",
   "execution_count": 204,
   "id": "2c05a0c4-118d-4022-8321-d053c44b6d40",
   "metadata": {},
   "outputs": [],
   "source": [
    "incorrect = annotated_df[~annotated_df['correct']]"
   ]
  },
  {
   "cell_type": "code",
   "execution_count": 205,
   "id": "15404ff2-55a7-4bb7-bdb8-0bb8f2968251",
   "metadata": {},
   "outputs": [
    {
     "data": {
      "text/plain": [
       "4"
      ]
     },
     "execution_count": 205,
     "metadata": {},
     "output_type": "execute_result"
    }
   ],
   "source": [
    "len(incorrect)"
   ]
  },
  {
   "cell_type": "code",
   "execution_count": 97,
   "id": "ccabded8-3eca-4837-9e79-1955869b473e",
   "metadata": {},
   "outputs": [
    {
     "data": {
      "text/plain": [
       "2     62b480e1\n",
       "21    52906497\n",
       "22           3\n",
       "23           2\n",
       "Name: id, dtype: object"
      ]
     },
     "execution_count": 97,
     "metadata": {},
     "output_type": "execute_result"
    }
   ],
   "source": [
    "incorrect.id"
   ]
  },
  {
   "cell_type": "code",
   "execution_count": 197,
   "id": "989f3dd2-1f05-4fc9-a1b0-62c104b24401",
   "metadata": {},
   "outputs": [],
   "source": [
    "def display_text(text, spans):\n",
    "    print(spans)\n",
    "    if spans and isinstance(spans, str):\n",
    "        spans = json.loads(spans)\n",
    "    else:\n",
    "        spans = []\n",
    "    style = \"AI{background-color:#FF0000} Human{background-color:#008000}\"\n",
    "    colored_text = list(text)\n",
    "    num_paragraphs = 0\n",
    "    for s in spans:\n",
    "        start = s[\"start\"]\n",
    "        end = s[\"end\"]\n",
    "        label = s[\"labels\"][0]\n",
    "        num_linebreaks = text[:start].count(\"\\n\")\n",
    "        start = start + num_linebreaks\n",
    "        end = end + num_linebreaks\n",
    "        colored_text[start] = f\"<{label}>{colored_text[start]}\"\n",
    "        colored_text[end] = f\"{colored_text[end]}</{label}>\"\n",
    "    content = \"\".join(colored_text).replace(\"\\n\", \"<br>\")\n",
    "    html = f\"<style>{style}</style> <div> {content} </div>\"\n",
    "    display(HTML(html))"
   ]
  },
  {
   "cell_type": "code",
   "execution_count": 198,
   "id": "18975cc2-7f76-4e8b-8ce1-01823f9607e8",
   "metadata": {},
   "outputs": [
    {
     "name": "stdout",
     "output_type": "stream",
     "text": [
      "62b480e1\n",
      "[{\"end\":227,\"text\":\"Paris,France\",\"start\":215,\"labels\":[\"AI\"]},{\"end\":321,\"text\":\"Bogota,colombia\",\"start\":306,\"labels\":[\"AI\"]},{\"end\":1722,\"text\":\".\\\"\",\"start\":1720,\"labels\":[\"AI\"]},{\"end\":4974,\"text\":\"The romantic city of Paris\",\"start\":4948,\"labels\":[\"AI\"]},{\"end\":5164,\"text\":\"The city of Bogota,Colombia\",\"start\":5137,\"labels\":[\"AI\"]},{\"end\":5136,\"text\":\"In Germany where they have developed a city where there is no car in sight and has everything within a walking or bike distance.\",\"start\":5008,\"labels\":[\"Human\"]},{\"end\":1055,\"text\":\"permitted,the\",\"start\":1042,\"labels\":[\"AI\"]},{\"end\":3244,\"text\":\"Paris will return to the romantic city\",\"start\":3206,\"labels\":[\"AI\"]}]\n"
     ]
    },
    {
     "data": {
      "text/html": [
       "<style>AI{background-color:#FF0000} Human{background-color:#008000}</style> <div> The culture of the car has been coming to an end. With many people now choosing to have other forms of transportation. Now in Germany they are making cities where they help banned car usage. In the romantic city of <AI>Paris,France </AI>they are now starting to banned cars due to the overload of smog. The city of <AI>Bogota,colombia </AI>is having a special day where they banned cars and see the effect of now having cars for a day. The car usage is now being observed to do damage around the world and due to that now cities all over the world is now banning the car usage. This will help to have a healthier earth and healthier people. The benefits of banning cars is going to help everyone and even our beloved earth.\r",
       "<br>\r",
       "<br>In Germany the people have made a city where they have given up their cars. The city I believe has a better way to maintain a healthy and cleaner environment than other cities in Germany. The banning of cars has been a great success with now people using bikes or walking as their means of transportation. Even though car ownership is <AI>permitted,the </AI>problem is that there are only two places to park which cost about 40,000 dollars along with your home. The result of that actions is that 70 percent of people do not own a car and 57 percent sold the car to live in the city. One person states \"When I had a car I was always tense. I'm much happier this way\" says Heidrun Walter. The citizens of this city have been feeling better about having no car you dont have the stress to have to drive you have the calm relaxing time by walking or biking. did you know that \"passenger cars are responsible for 12 percent of greenhouse gas emissions in Europe and up to 50 percent in car intensive areas in the United States<AI>.\"T</AI>he greenhouse gas has been a problem ever since the development of motor power cars. Now that we are able to stop it lets take that chance to help stop the greenhouse gas and to make cleaner and healthier cities.\r",
       "<br>\r",
       "<br>The romantic city of paris is having a bit of a problem its that its beautiful city is now being coveres in smog due to the overuse of cars. now that Paris has enforced a partial driving ban to help clear the air they can't help to notice that when there are fewer cars being operated the smog begins to clear up. The smog has always been a problem for Paris it usually has more smog than in any European country. The article states that \"Paris has 147 micrograms of perticulate matter PM per cubic meter compared with 114 in Brussels and 79.7 in London,Reuters found.\" The romantic city of Paris cant be as wonderful if it always has a problem with having too much smog I believ that the cars are the ones to blame for this matter that if the city of paris bans its cars that the smog will decrease and become a the romantic city that it is. The article states that \"diesel fuel was blamed since France has a tax policy that favors diesel over gasoline. Diesels make up 67 percent of vehicles in France compared a 53.3 percent average of diesel engines in the rest of western Europe.\" That means that it is in fact the motor cars that are the ones causeing the overflow of the smog. If the the cars are able to to be banned in paris we will see a drop in the smog and <AI>Paris will return to the romantic city </AI>that it is.\r",
       "<br>\r",
       "<br>The city of Bogota,Colombia has been celebrating the day without cars for over three years straight. The car free day help leave the streets of the capital city without any traffic jams. One problem of the road that many countries have in their capital city is that they have to many cars because of the tourist and the huge number of people who live there which causes traffic jams leaving cars in the streets for hours on end. They have the same problem in Brazil where they have one of the worlds worst traffic jams in history. The ones who delevoped the car free day was trying to promote alternative transportation and reduce smog. Someone states in the article \"It's a good opportunity to take away stress and lower air pollution\" says businessman Carlos Arturo Plaza. The stress of having a car in a countries capital can be stressful to some people and that bikeing or walking is a way to help calm someone after a busy day at work. Due to the car free day the city states that \"uneven, pitted side walks have been replaced by broad,smooth sidewalks, rush hour restirictions have dramatically cut traffic.\"The car free day i feel is benefitting everyone from getting rid of traffic jams to clearing up the smog. The replacing of cars for bikes and walking is not so much a bad idea if it will help benefit evryone around you.\r",
       "<br>\r",
       "<br>In conclusion, the car culture is now coming to its end. That nations all over the world has seen the great benefits from banning cars. The greatest effects that banning cars has is that they are helping to get rid of air pollution,stress,and the grreenhouse gas. These are all benfits for everyone it helps the ither people beside u and the environment. <AI>The romantic city of Paris </AI>was covered in smog due to cars. <Human>In Germany where they have developed a city where there is no car in sight and has everything within a walking or bike distance. </Human><AI>The city of Bogota,Colombia </AI>making a holiday that has been going on for three years straight to have no cars for a day. The people have been seeing that the effects of having no car is wonderful and that we should all do it to better ourselves and to better out enivornment. </div>"
      ],
      "text/plain": [
       "<IPython.core.display.HTML object>"
      ]
     },
     "metadata": {},
     "output_type": "display_data"
    },
    {
     "name": "stdout",
     "output_type": "stream",
     "text": [
      "Annotation: 1\n",
      "Ground truth: 0\n",
      "Comments: {\"text\":[\"слишком длинно\",\"слишком правильный текст\",\"повторяются The city of Bogota,Colombia, The romantic city of Paris\"]}\n",
      "\n",
      "-----\n",
      "\n",
      "52906497\n",
      "[{\"end\":3042,\"text\":\"carsArticle 4.\",\"start\":3028,\"labels\":[\"AI\"]},{\"end\":2639,\"text\":\"Article 4.\\\\n\",\"start\":2629,\"labels\":[\"AI\"]},{\"end\":3477,\"text\":\"safetyArticle4\",\"start\":3463,\"labels\":[\"AI\"]},{\"end\":936,\"text\":\"playingArticle 1\",\"start\":920,\"labels\":[\"AI\"]}]\n"
     ]
    },
    {
     "data": {
      "text/html": [
       "<style>AI{background-color:#FF0000} Human{background-color:#008000}</style> <div> Beep! Beep! Everyday people around the world drive to accommodate their busy schedule. With so many vehicles swarming the streets of the world there is bound to be consequences. Although it is impossible to understand how todays actions will affect the future. We can hypothesise that by reducing car usage we can preserve the world by lowering emissions and conserving resources, create stronger communities, and keep cities beautiful.\r",
       "<br>\r",
       "<br>Today nations around the world are working to create communities that offer an enjoyable life without the use of a car. For example in Vauban, Germany a suburban community has made car use generally forbidden. if fact poeple themselves are pushing for a way to avoid cars. In article one it was reported that \"57 percent of vaughn's families sold a car to move to that community.\" One mom reports how she enjoys to be able to walkdown the streets listening to the sound of children <AI>playingArticle 1.</AI> In America teenagers are driving later because they don't feel the need to drive. In article four Elisabeth Rosenthal has found that her children would rather find summer jobs that they can access without the use of car. In Bogota, Columbia the citizen have been enjoying the 118 miles of bicycle paths that have been in place since the mid1990s. Today they continue to be enthralled with a carless city with the pop ups of new parts and sport centers. now citizens can take a stroll and visit restaurants and upscale shopping districts all without the use of the carArticle 3. With the renewal of city centers the old life in suburbs has become less and less appealing.\r",
       "<br>\r",
       "<br>Even more importantly reducing drivers would help preserve the world. the idea is that by limiting the cars on the road emissions can be brought down. in response to smog conditions Paris, France took the intuitive to issue a partial driving ban. Article 2 Paris bans driving due to smog explains how Paris went about this feat \"On Monday motorists with even numbered license plates were ordered to leave their cars at home or suffer a 22euro fibne. The same would apply to oddnumbered plates the following day.\" During that week congestion was down 60 percent. they took this drastic approach because they were nearing the amount of smog in one ofthe most polluted city in the world, Beijing, China. According to article 4 recently in america researchers have found that the rate of car ownership is dropping. \"Many sociologists believe that is this pattern persists it wil have beneficial implications for carbon emissions and the environment, since transportation is the second largest source of america's emissions\"<AI>Article 4.\r",
       "</AI><br>\r",
       "<br>One thing is for certian the current trends is leading to less cars and the creation odf additional methods of transportation such as Ford and Mercedes who have already started to create a \"broader product range beyond the personal vechicle\"Source 4. Although Bill Ford along with other car companies would suffer from the conversion he surprisingly has been pushing for a world without <AI>carsArticle 4. </AI>In fact at the mobile world Convention in 2012\"Bill Ford laid outr a business plan for a world in which personal vechicle ownership is impractical or underirable. He proposed partening with telecommunications industry to create cities in which pedestrian, bibycle, private cars, commercial and public transportation office are woven into a connected network to save time, connserve resources, lower emissionsand imporve <AI>safetyArticle4.</AI>The world is certianly moving toward a world were car emissions are reduced, life is more enjoyable, and world city maintian their charm. By invovling yourself in this new type of world you are ensuring that future generations get to experience the same beuatiful world that exists today. There are big plans for this world join them. </div>"
      ],
      "text/plain": [
       "<IPython.core.display.HTML object>"
      ]
     },
     "metadata": {},
     "output_type": "display_data"
    },
    {
     "name": "stdout",
     "output_type": "stream",
     "text": [
      "Annotation: 1\n",
      "Ground truth: 0\n",
      "Comments: может просто съехал markdown оформление?\n",
      "\n",
      "-----\n",
      "\n",
      "3\n",
      "nan\n"
     ]
    },
    {
     "data": {
      "text/html": [
       "<style>AI{background-color:#FF0000} Human{background-color:#008000}</style> <div> Imagine  a city where the streets are free of traffic jams and smog. Where people walk, bike, and take public transit instead of driving everywhere. This vision is becoming a reality in places like Vauban, Germany and Bogota, Colombia. These cities are pioneering alternatives to car-centric suburban life.\r",
       "<br>\r",
       "<br>There are several key advantages to limiting car usage in cities and suburbs:\r",
       "<br>\r",
       "<br>Reduced Greenhouse Gas Emissions: Cars produce significant greenhouse gas emissions that contribute to climate change. Cutting car usage can drastically reduce a city's carbon footprint. For example, passenger cars are responsible for 12% of Europe's emissions and up to 50% in some car-heavy U.S. areas. Promoting public transit over private vehicles is crucial for meeting emissions reduction targets.\r",
       "<br>\r",
       "<br>Cleaner Air: With fewer cars on the roads, cities can clear up smog and air pollution. Paris saw its congestion reduced by 60% and its smog dissipate during a driving ban. Meanwhile, Bogota's car-free days have helped lower air pollution. Cleaner air means better health for citizens.\r",
       "<br>\r",
       "<br>Less Traffic and Stress: Vauban, Germany residents report being much happier and less stressed without owning a car. The sounds of children and bikes have replaced traffic noise. And in Bogota, banning cars for a day gives residents a \"good opportunity to take away stress.\" Less traffic also makes cities more livable.\r",
       "<br>\r",
       "<br>More Opportunities for Exercise: Car-free communities encourage more walking and biking. Building bike lanes and pedestrian-friendly sidewalks motivates residents to get outdoors. This promotes healthy lifestyles and addresses public health issues like obesity.\r",
       "<br>\r",
       "<br>Overall, limiting car usage through urban planning and policy initiatives like car-free days has social, environmental, and economic benefits. More cities worldwide are catching onto the advantages of reducing dependence on private vehicles. The decline of car culture is spinning into a big hit globally.\r",
       "<br> </div>"
      ],
      "text/plain": [
       "<IPython.core.display.HTML object>"
      ]
     },
     "metadata": {},
     "output_type": "display_data"
    },
    {
     "name": "stdout",
     "output_type": "stream",
     "text": [
      "Annotation: 0\n",
      "Ground truth: 1\n",
      "Comments: nan\n",
      "\n",
      "-----\n",
      "\n",
      "2\n",
      "[{\"end\":34,\"text\":\"Smog. Traffic. Runaway emissions.\",\"start\":0,\"labels\":[\"Human\"]}]\n"
     ]
    },
    {
     "data": {
      "text/html": [
       "<style>AI{background-color:#FF0000} Human{background-color:#008000}</style> <div> <Human>Smog.  Traffic. Runaway emissions. </Human>Our love affair with cars is having dire consequences around the world. From Paris to Bogota, cities and suburbs alike are actively pursuing alternatives to our fossil fuel-powered status quo and discovering the benefits. The data are clear: car usage has peaked and is declining in the U.S. Younger generations increasingly view car ownership as more trouble than it's worth. \r",
       "<br>\r",
       "<br>Cities that discourage car usage enjoy reduced congestion and emissions. When Paris banned half its cars for a day due to dangerous smog levels, congestion dropped 60% with 4,000 fewer cars crowding city streets. Bogota hosts an annual car-free Day Without Cars, reducing stress and pollution while promoting alternative transportation like buses, bikes, and walking. Many other cities plan to join this global initiative.\r",
       "<br>\r",
       "<br>Meanwhile, the suburb of Vauban, Germany has taken the concept of reduced car reliance even further. With parking limited and public transit access maximized, the community has achieved a remarkable 57% reduction in car ownership among new residents. Families like the Walters are happier and less stressed without the burdens of car payments, insurance, maintenance and traffic. Cities and suburbs can thrive with fewer cars choking roads and lungs alike.  \r",
       "<br>\r",
       "<br>Momentum is building across cultures young and old for a shift away from cars. With smart planning that makes walking, biking, and public transit convenient and widely available, cities and citizens reap lower emissions, costs, and stress levels from reduced reliance on cars. The social and environmental benefits are worth pursuing in communities across the nation and around the world.\r",
       "<br> </div>"
      ],
      "text/plain": [
       "<IPython.core.display.HTML object>"
      ]
     },
     "metadata": {},
     "output_type": "display_data"
    },
    {
     "name": "stdout",
     "output_type": "stream",
     "text": [
      "Annotation: 0\n",
      "Ground truth: 1\n",
      "Comments: {\"text\":[\"абзацы одинаковой длины\",\"короткий текст\",\"скучный текст\"]}\n",
      "\n",
      "-----\n",
      "\n"
     ]
    }
   ],
   "source": [
    "for index, row in incorrect.iterrows():\n",
    "    print(row.id)\n",
    "    display_text(row.text, row.answer)\n",
    "    print(f\"Annotation: {row.value}\")\n",
    "    print(f\"Ground truth: {row.generated}\")\n",
    "    print(f\"Comments: {row.other_features}\")\n",
    "    print(\"\\n-----\\n\")"
   ]
  },
  {
   "cell_type": "code",
   "execution_count": null,
   "id": "12e38292-6ea7-4b63-ba46-9da6e8772af4",
   "metadata": {},
   "outputs": [],
   "source": [
    "Сравним качество разметки у разных разметчиков."
   ]
  },
  {
   "cell_type": "code",
   "execution_count": 209,
   "id": "d2cbe137-60d0-46d5-976c-cdaa4a96cdb9",
   "metadata": {},
   "outputs": [
    {
     "data": {
      "text/html": [
       "<div>\n",
       "<style scoped>\n",
       "    .dataframe tbody tr th:only-of-type {\n",
       "        vertical-align: middle;\n",
       "    }\n",
       "\n",
       "    .dataframe tbody tr th {\n",
       "        vertical-align: top;\n",
       "    }\n",
       "\n",
       "    .dataframe thead th {\n",
       "        text-align: right;\n",
       "    }\n",
       "</style>\n",
       "<table border=\"1\" class=\"dataframe\">\n",
       "  <thead>\n",
       "    <tr style=\"text-align: right;\">\n",
       "      <th></th>\n",
       "      <th>text</th>\n",
       "      <th>correct</th>\n",
       "    </tr>\n",
       "    <tr>\n",
       "      <th>annotator</th>\n",
       "      <th></th>\n",
       "      <th></th>\n",
       "    </tr>\n",
       "  </thead>\n",
       "  <tbody>\n",
       "    <tr>\n",
       "      <th>2</th>\n",
       "      <td>21</td>\n",
       "      <td>0.904762</td>\n",
       "    </tr>\n",
       "    <tr>\n",
       "      <th>3</th>\n",
       "      <td>4</td>\n",
       "      <td>0.500000</td>\n",
       "    </tr>\n",
       "  </tbody>\n",
       "</table>\n",
       "</div>"
      ],
      "text/plain": [
       "           text   correct\n",
       "annotator                \n",
       "2            21  0.904762\n",
       "3             4  0.500000"
      ]
     },
     "execution_count": 209,
     "metadata": {},
     "output_type": "execute_result"
    }
   ],
   "source": [
    "annotated_df.groupby('annotator').agg({'text':'count', 'correct':'mean'})"
   ]
  }
 ],
 "metadata": {
  "kernelspec": {
   "display_name": "Python 3 (ipykernel)",
   "language": "python",
   "name": "python3"
  },
  "language_info": {
   "codemirror_mode": {
    "name": "ipython",
    "version": 3
   },
   "file_extension": ".py",
   "mimetype": "text/x-python",
   "name": "python",
   "nbconvert_exporter": "python",
   "pygments_lexer": "ipython3",
   "version": "3.10.0"
  }
 },
 "nbformat": 4,
 "nbformat_minor": 5
}
